{
  "nbformat": 4,
  "nbformat_minor": 0,
  "metadata": {
    "colab": {
      "name": "Demo20200513.ipynb",
      "provenance": [],
      "collapsed_sections": []
    },
    "kernelspec": {
      "name": "python3",
      "display_name": "Python 3"
    }
  },
  "cells": [
    {
      "cell_type": "markdown",
      "metadata": {
        "id": "nN4BCy9UyOd1",
        "colab_type": "text"
      },
      "source": [
        "## 安裝 Spark"
      ]
    },
    {
      "cell_type": "code",
      "metadata": {
        "id": "o75zy_15kwcZ",
        "colab_type": "code",
        "colab": {}
      },
      "source": [
        "! apt-get install openjdk-8-jdk-headless -qq > /dev/null"
      ],
      "execution_count": 0,
      "outputs": []
    },
    {
      "cell_type": "code",
      "metadata": {
        "id": "yl8rPgjcyTVJ",
        "colab_type": "code",
        "colab": {}
      },
      "source": [
        "! wget -q https://www-us.apache.org/dist/spark/spark-2.4.5/spark-2.4.5-bin-hadoop2.7.tgz"
      ],
      "execution_count": 0,
      "outputs": []
    },
    {
      "cell_type": "code",
      "metadata": {
        "id": "2WZCpWedyYmA",
        "colab_type": "code",
        "colab": {}
      },
      "source": [
        "! tar xf spark-2.4.5-bin-hadoop2.7.tgz"
      ],
      "execution_count": 0,
      "outputs": []
    },
    {
      "cell_type": "code",
      "metadata": {
        "id": "CFGO8N_4ydXu",
        "colab_type": "code",
        "colab": {}
      },
      "source": [
        "! pip install -q findspark"
      ],
      "execution_count": 0,
      "outputs": []
    },
    {
      "cell_type": "code",
      "metadata": {
        "id": "BHDWZ5q_ygFW",
        "colab_type": "code",
        "colab": {}
      },
      "source": [
        "import os\n",
        "os.environ[\"JAVA_HOME\"] = \"/usr/lib/jvm/java-1.8.0-openjdk-amd64\"\n",
        "os.environ[\"SPARK_HOME\"] = \"/content/spark-2.4.5-bin-hadoop2.7\""
      ],
      "execution_count": 0,
      "outputs": []
    },
    {
      "cell_type": "code",
      "metadata": {
        "id": "to4ABX67yjBP",
        "colab_type": "code",
        "colab": {}
      },
      "source": [
        "import findspark\n",
        "findspark.init()\n",
        "from pyspark.sql import SparkSession\n",
        "spark = SparkSession.builder.master(\"local[*]\").getOrCreate()"
      ],
      "execution_count": 0,
      "outputs": []
    },
    {
      "cell_type": "code",
      "metadata": {
        "id": "2XzAraOeyk7f",
        "colab_type": "code",
        "colab": {}
      },
      "source": [
        "from pyspark import SparkContext\n",
        "sc = SparkContext.getOrCreate()"
      ],
      "execution_count": 0,
      "outputs": []
    },
    {
      "cell_type": "code",
      "metadata": {
        "id": "NWMKXZXrypkI",
        "colab_type": "code",
        "colab": {
          "base_uri": "https://localhost:8080/",
          "height": 196
        },
        "outputId": "dfc66c74-1cfd-4572-ee04-f4433367b7ca"
      },
      "source": [
        "sc"
      ],
      "execution_count": 8,
      "outputs": [
        {
          "output_type": "execute_result",
          "data": {
            "text/html": [
              "\n",
              "        <div>\n",
              "            <p><b>SparkContext</b></p>\n",
              "\n",
              "            <p><a href=\"http://e716a58ab971:4040\">Spark UI</a></p>\n",
              "\n",
              "            <dl>\n",
              "              <dt>Version</dt>\n",
              "                <dd><code>v2.4.5</code></dd>\n",
              "              <dt>Master</dt>\n",
              "                <dd><code>local[*]</code></dd>\n",
              "              <dt>AppName</dt>\n",
              "                <dd><code>pyspark-shell</code></dd>\n",
              "            </dl>\n",
              "        </div>\n",
              "        "
            ],
            "text/plain": [
              "<SparkContext master=local[*] appName=pyspark-shell>"
            ]
          },
          "metadata": {
            "tags": []
          },
          "execution_count": 8
        }
      ]
    },
    {
      "cell_type": "markdown",
      "metadata": {
        "id": "Qb9R0nNH17ni",
        "colab_type": "text"
      },
      "source": [
        "##  建立客戶流失預測模型"
      ]
    },
    {
      "cell_type": "code",
      "metadata": {
        "id": "dkHpMuw11G1A",
        "colab_type": "code",
        "colab": {
          "base_uri": "https://localhost:8080/",
          "height": 228
        },
        "outputId": "f9883322-3624-463b-bb5d-8c48b109348a"
      },
      "source": [
        "! wget \"https://raw.githubusercontent.com/ywchiu/pyspark/master/data/customer_churn.csv\"\n"
      ],
      "execution_count": 9,
      "outputs": [
        {
          "output_type": "stream",
          "text": [
            "--2020-05-13 11:42:58--  https://raw.githubusercontent.com/ywchiu/pyspark/master/data/customer_churn.csv\n",
            "Resolving raw.githubusercontent.com (raw.githubusercontent.com)... 151.101.0.133, 151.101.64.133, 151.101.128.133, ...\n",
            "Connecting to raw.githubusercontent.com (raw.githubusercontent.com)|151.101.0.133|:443... connected.\n",
            "HTTP request sent, awaiting response... 200 OK\n",
            "Length: 356734 (348K) [text/plain]\n",
            "Saving to: ‘customer_churn.csv’\n",
            "\n",
            "\rcustomer_churn.csv    0%[                    ]       0  --.-KB/s               \rcustomer_churn.csv  100%[===================>] 348.37K  --.-KB/s    in 0.03s   \n",
            "\n",
            "2020-05-13 11:42:59 (11.0 MB/s) - ‘customer_churn.csv’ saved [356734/356734]\n",
            "\n"
          ],
          "name": "stdout"
        }
      ]
    },
    {
      "cell_type": "code",
      "metadata": {
        "id": "dFaTKaCr2Enw",
        "colab_type": "code",
        "colab": {
          "base_uri": "https://localhost:8080/",
          "height": 211
        },
        "outputId": "8c05fc37-2958-4b6b-99f8-39c822599288"
      },
      "source": [
        "! head customer_churn.csv"
      ],
      "execution_count": 10,
      "outputs": [
        {
          "output_type": "stream",
          "text": [
            "\"\",\"state\",\"account_length\",\"area_code\",\"international_plan\",\"voice_mail_plan\",\"number_vmail_messages\",\"total_day_minutes\",\"total_day_calls\",\"total_day_charge\",\"total_eve_minutes\",\"total_eve_calls\",\"total_eve_charge\",\"total_night_minutes\",\"total_night_calls\",\"total_night_charge\",\"total_intl_minutes\",\"total_intl_calls\",\"total_intl_charge\",\"number_customer_service_calls\",\"churn\"\n",
            "\"1\",\"KS\",128,\"area_code_415\",\"no\",\"yes\",25,265.1,110,45.07,197.4,99,16.78,244.7,91,11.01,10,3,2.7,1,\"no\"\n",
            "\"2\",\"OH\",107,\"area_code_415\",\"no\",\"yes\",26,161.6,123,27.47,195.5,103,16.62,254.4,103,11.45,13.7,3,3.7,1,\"no\"\n",
            "\"3\",\"NJ\",137,\"area_code_415\",\"no\",\"no\",0,243.4,114,41.38,121.2,110,10.3,162.6,104,7.32,12.2,5,3.29,0,\"no\"\n",
            "\"4\",\"OH\",84,\"area_code_408\",\"yes\",\"no\",0,299.4,71,50.9,61.9,88,5.26,196.9,89,8.86,6.6,7,1.78,2,\"no\"\n",
            "\"5\",\"OK\",75,\"area_code_415\",\"yes\",\"no\",0,166.7,113,28.34,148.3,122,12.61,186.9,121,8.41,10.1,3,2.73,3,\"no\"\n",
            "\"6\",\"AL\",118,\"area_code_510\",\"yes\",\"no\",0,223.4,98,37.98,220.6,101,18.75,203.9,118,9.18,6.3,6,1.7,0,\"no\"\n",
            "\"7\",\"MA\",121,\"area_code_510\",\"no\",\"yes\",24,218.2,88,37.09,348.5,108,29.62,212.6,118,9.57,7.5,7,2.03,3,\"no\"\n",
            "\"8\",\"MO\",147,\"area_code_415\",\"yes\",\"no\",0,157,79,26.69,103.1,94,8.76,211.8,96,9.53,7.1,6,1.92,0,\"no\"\n",
            "\"9\",\"LA\",117,\"area_code_408\",\"no\",\"no\",0,184.5,97,31.37,351.6,80,29.89,215.8,90,9.71,8.7,4,2.35,1,\"no\"\n"
          ],
          "name": "stdout"
        }
      ]
    },
    {
      "cell_type": "code",
      "metadata": {
        "id": "SydLNdMf2HfH",
        "colab_type": "code",
        "colab": {
          "base_uri": "https://localhost:8080/",
          "height": 35
        },
        "outputId": "5cde5159-11e8-4e60-90b2-1fb1dd7a9e79"
      },
      "source": [
        "raw_data = sc.textFile(\"customer_churn.csv\")\n",
        "raw_data"
      ],
      "execution_count": 11,
      "outputs": [
        {
          "output_type": "execute_result",
          "data": {
            "text/plain": [
              "customer_churn.csv MapPartitionsRDD[1] at textFile at NativeMethodAccessorImpl.java:0"
            ]
          },
          "metadata": {
            "tags": []
          },
          "execution_count": 11
        }
      ]
    },
    {
      "cell_type": "code",
      "metadata": {
        "id": "q9appWyO2lVL",
        "colab_type": "code",
        "colab": {
          "base_uri": "https://localhost:8080/",
          "height": 89
        },
        "outputId": "90340aa7-cebd-4781-bfd0-2e131224960b"
      },
      "source": [
        "raw_data.take(3)"
      ],
      "execution_count": 12,
      "outputs": [
        {
          "output_type": "execute_result",
          "data": {
            "text/plain": [
              "['\"\",\"state\",\"account_length\",\"area_code\",\"international_plan\",\"voice_mail_plan\",\"number_vmail_messages\",\"total_day_minutes\",\"total_day_calls\",\"total_day_charge\",\"total_eve_minutes\",\"total_eve_calls\",\"total_eve_charge\",\"total_night_minutes\",\"total_night_calls\",\"total_night_charge\",\"total_intl_minutes\",\"total_intl_calls\",\"total_intl_charge\",\"number_customer_service_calls\",\"churn\"',\n",
              " '\"1\",\"KS\",128,\"area_code_415\",\"no\",\"yes\",25,265.1,110,45.07,197.4,99,16.78,244.7,91,11.01,10,3,2.7,1,\"no\"',\n",
              " '\"2\",\"OH\",107,\"area_code_415\",\"no\",\"yes\",26,161.6,123,27.47,195.5,103,16.62,254.4,103,11.45,13.7,3,3.7,1,\"no\"']"
            ]
          },
          "metadata": {
            "tags": []
          },
          "execution_count": 12
        }
      ]
    },
    {
      "cell_type": "code",
      "metadata": {
        "id": "dd1hEHfH2q9r",
        "colab_type": "code",
        "colab": {
          "base_uri": "https://localhost:8080/",
          "height": 55
        },
        "outputId": "9fac793b-5e77-448e-a3f1-a9f73c6b1680"
      },
      "source": [
        "header = raw_data.first()\n",
        "header"
      ],
      "execution_count": 13,
      "outputs": [
        {
          "output_type": "execute_result",
          "data": {
            "text/plain": [
              "'\"\",\"state\",\"account_length\",\"area_code\",\"international_plan\",\"voice_mail_plan\",\"number_vmail_messages\",\"total_day_minutes\",\"total_day_calls\",\"total_day_charge\",\"total_eve_minutes\",\"total_eve_calls\",\"total_eve_charge\",\"total_night_minutes\",\"total_night_calls\",\"total_night_charge\",\"total_intl_minutes\",\"total_intl_calls\",\"total_intl_charge\",\"number_customer_service_calls\",\"churn\"'"
            ]
          },
          "metadata": {
            "tags": []
          },
          "execution_count": 13
        }
      ]
    },
    {
      "cell_type": "code",
      "metadata": {
        "id": "5CbOWmyT24QJ",
        "colab_type": "code",
        "colab": {
          "base_uri": "https://localhost:8080/",
          "height": 89
        },
        "outputId": "5fcd0e81-f3c5-4175-8e62-26e2906ec136"
      },
      "source": [
        "skip_data = raw_data.filter(lambda line: line != header)\n",
        "skip_data.take(3)"
      ],
      "execution_count": 14,
      "outputs": [
        {
          "output_type": "execute_result",
          "data": {
            "text/plain": [
              "['\"1\",\"KS\",128,\"area_code_415\",\"no\",\"yes\",25,265.1,110,45.07,197.4,99,16.78,244.7,91,11.01,10,3,2.7,1,\"no\"',\n",
              " '\"2\",\"OH\",107,\"area_code_415\",\"no\",\"yes\",26,161.6,123,27.47,195.5,103,16.62,254.4,103,11.45,13.7,3,3.7,1,\"no\"',\n",
              " '\"3\",\"NJ\",137,\"area_code_415\",\"no\",\"no\",0,243.4,114,41.38,121.2,110,10.3,162.6,104,7.32,12.2,5,3.29,0,\"no\"']"
            ]
          },
          "metadata": {
            "tags": []
          },
          "execution_count": 14
        }
      ]
    },
    {
      "cell_type": "markdown",
      "metadata": {
        "id": "1iLvH_xW3cJB",
        "colab_type": "text"
      },
      "source": [
        "- 結構化資料\n",
        "- 沒有缺失值\n",
        "- 所有資料都必須是數值資料"
      ]
    },
    {
      "cell_type": "code",
      "metadata": {
        "id": "t9Woy7Od3LQV",
        "colab_type": "code",
        "colab": {
          "base_uri": "https://localhost:8080/",
          "height": 1000
        },
        "outputId": "848a5a7a-bba6-4308-e38b-559f51791877"
      },
      "source": [
        "splitlines = skip_data.map(lambda l: l.split(\",\"))\n",
        "splitlines.take(3)"
      ],
      "execution_count": 15,
      "outputs": [
        {
          "output_type": "execute_result",
          "data": {
            "text/plain": [
              "[['\"1\"',\n",
              "  '\"KS\"',\n",
              "  '128',\n",
              "  '\"area_code_415\"',\n",
              "  '\"no\"',\n",
              "  '\"yes\"',\n",
              "  '25',\n",
              "  '265.1',\n",
              "  '110',\n",
              "  '45.07',\n",
              "  '197.4',\n",
              "  '99',\n",
              "  '16.78',\n",
              "  '244.7',\n",
              "  '91',\n",
              "  '11.01',\n",
              "  '10',\n",
              "  '3',\n",
              "  '2.7',\n",
              "  '1',\n",
              "  '\"no\"'],\n",
              " ['\"2\"',\n",
              "  '\"OH\"',\n",
              "  '107',\n",
              "  '\"area_code_415\"',\n",
              "  '\"no\"',\n",
              "  '\"yes\"',\n",
              "  '26',\n",
              "  '161.6',\n",
              "  '123',\n",
              "  '27.47',\n",
              "  '195.5',\n",
              "  '103',\n",
              "  '16.62',\n",
              "  '254.4',\n",
              "  '103',\n",
              "  '11.45',\n",
              "  '13.7',\n",
              "  '3',\n",
              "  '3.7',\n",
              "  '1',\n",
              "  '\"no\"'],\n",
              " ['\"3\"',\n",
              "  '\"NJ\"',\n",
              "  '137',\n",
              "  '\"area_code_415\"',\n",
              "  '\"no\"',\n",
              "  '\"no\"',\n",
              "  '0',\n",
              "  '243.4',\n",
              "  '114',\n",
              "  '41.38',\n",
              "  '121.2',\n",
              "  '110',\n",
              "  '10.3',\n",
              "  '162.6',\n",
              "  '104',\n",
              "  '7.32',\n",
              "  '12.2',\n",
              "  '5',\n",
              "  '3.29',\n",
              "  '0',\n",
              "  '\"no\"']]"
            ]
          },
          "metadata": {
            "tags": []
          },
          "execution_count": 15
        }
      ]
    },
    {
      "cell_type": "code",
      "metadata": {
        "id": "145phE9c4KV8",
        "colab_type": "code",
        "colab": {}
      },
      "source": [
        "from pyspark.mllib.regression import LabeledPoint\n",
        "from pyspark.mllib.linalg import Vectors, Matrices\n",
        "\n",
        "def parseLine(col):\n",
        "    features = []\n",
        "    churn = col[-1]\n",
        "    international = 0 if col[4] == '\"no\"' else 1\n",
        "    voice = 0 if col[5] == '\"no\"'  else 1\n",
        "    label = 0 if churn == '\"no\"' else 1\n",
        "    features.append(international)\n",
        "    features.append(voice)\n",
        "    features += col[6:-1]\n",
        "    return LabeledPoint(label, Vectors.dense(features))"
      ],
      "execution_count": 0,
      "outputs": []
    },
    {
      "cell_type": "code",
      "metadata": {
        "id": "TFuI4xhq5dsn",
        "colab_type": "code",
        "colab": {}
      },
      "source": [
        "trainData = splitlines.map(parseLine)"
      ],
      "execution_count": 0,
      "outputs": []
    },
    {
      "cell_type": "code",
      "metadata": {
        "id": "KakIBf9t5y21",
        "colab_type": "code",
        "colab": {
          "base_uri": "https://localhost:8080/",
          "height": 89
        },
        "outputId": "e8fb806c-a2fb-4b64-a13d-1740b4ceb76f"
      },
      "source": [
        "trainData.take(3)"
      ],
      "execution_count": 20,
      "outputs": [
        {
          "output_type": "execute_result",
          "data": {
            "text/plain": [
              "[LabeledPoint(0.0, [0.0,1.0,25.0,265.1,110.0,45.07,197.4,99.0,16.78,244.7,91.0,11.01,10.0,3.0,2.7,1.0]),\n",
              " LabeledPoint(0.0, [0.0,1.0,26.0,161.6,123.0,27.47,195.5,103.0,16.62,254.4,103.0,11.45,13.7,3.0,3.7,1.0]),\n",
              " LabeledPoint(0.0, [0.0,0.0,0.0,243.4,114.0,41.38,121.2,110.0,10.3,162.6,104.0,7.32,12.2,5.0,3.29,0.0])]"
            ]
          },
          "metadata": {
            "tags": []
          },
          "execution_count": 20
        }
      ]
    },
    {
      "cell_type": "code",
      "metadata": {
        "id": "vyn-gPoz6Cer",
        "colab_type": "code",
        "colab": {}
      },
      "source": [
        "from pyspark.mllib.tree import DecisionTree\n",
        "\n",
        "model = DecisionTree.trainClassifier(trainData, numClasses=2, \n",
        "                    categoricalFeaturesInfo={},impurity='gini', maxDepth=5)\n"
      ],
      "execution_count": 0,
      "outputs": []
    },
    {
      "cell_type": "code",
      "metadata": {
        "id": "DE63jZNn8ZxM",
        "colab_type": "code",
        "colab": {
          "base_uri": "https://localhost:8080/",
          "height": 1000
        },
        "outputId": "b69fdc82-8785-485c-fb2c-330ca2fc295a"
      },
      "source": [
        "print(\"Learned classification tree model:\")\n",
        "print(model.toDebugString())\n"
      ],
      "execution_count": 22,
      "outputs": [
        {
          "output_type": "stream",
          "text": [
            "Learned classification tree model:\n",
            "DecisionTreeModel classifier of depth 5 with 47 nodes\n",
            "  If (feature 3 <= 264.75)\n",
            "   If (feature 15 <= 3.5)\n",
            "    If (feature 0 <= 0.5)\n",
            "     If (feature 3 <= 221.5)\n",
            "      Predict: 0.0\n",
            "     Else (feature 3 > 221.5)\n",
            "      If (feature 6 <= 259.85)\n",
            "       Predict: 0.0\n",
            "      Else (feature 6 > 259.85)\n",
            "       Predict: 1.0\n",
            "    Else (feature 0 > 0.5)\n",
            "     If (feature 13 <= 2.5)\n",
            "      Predict: 1.0\n",
            "     Else (feature 13 > 2.5)\n",
            "      If (feature 12 <= 12.95)\n",
            "       Predict: 0.0\n",
            "      Else (feature 12 > 12.95)\n",
            "       Predict: 1.0\n",
            "   Else (feature 15 > 3.5)\n",
            "    If (feature 3 <= 161.35000000000002)\n",
            "     If (feature 6 <= 230.25)\n",
            "      Predict: 1.0\n",
            "     Else (feature 6 > 230.25)\n",
            "      If (feature 3 <= 138.55)\n",
            "       Predict: 1.0\n",
            "      Else (feature 3 > 138.55)\n",
            "       Predict: 0.0\n",
            "    Else (feature 3 > 161.35000000000002)\n",
            "     If (feature 6 <= 156.05)\n",
            "      If (feature 3 <= 193.35000000000002)\n",
            "       Predict: 1.0\n",
            "      Else (feature 3 > 193.35000000000002)\n",
            "       Predict: 0.0\n",
            "     Else (feature 6 > 156.05)\n",
            "      Predict: 0.0\n",
            "  Else (feature 3 > 264.75)\n",
            "   If (feature 1 <= 0.5)\n",
            "    If (feature 6 <= 184.95)\n",
            "     If (feature 9 <= 213.35000000000002)\n",
            "      Predict: 0.0\n",
            "     Else (feature 9 > 213.35000000000002)\n",
            "      If (feature 6 <= 123.55)\n",
            "       Predict: 0.0\n",
            "      Else (feature 6 > 123.55)\n",
            "       Predict: 1.0\n",
            "    Else (feature 6 > 184.95)\n",
            "     If (feature 9 <= 123.30000000000001)\n",
            "      If (feature 10 <= 103.5)\n",
            "       Predict: 1.0\n",
            "      Else (feature 10 > 103.5)\n",
            "       Predict: 0.0\n",
            "     Else (feature 9 > 123.30000000000001)\n",
            "      Predict: 1.0\n",
            "   Else (feature 1 > 0.5)\n",
            "    If (feature 0 <= 0.5)\n",
            "     If (feature 6 <= 259.85)\n",
            "      Predict: 0.0\n",
            "     Else (feature 6 > 259.85)\n",
            "      If (feature 7 <= 103.5)\n",
            "       Predict: 0.0\n",
            "      Else (feature 7 > 103.5)\n",
            "       Predict: 1.0\n",
            "    Else (feature 0 > 0.5)\n",
            "     If (feature 3 <= 280.7)\n",
            "      Predict: 1.0\n",
            "     Else (feature 3 > 280.7)\n",
            "      If (feature 9 <= 229.85000000000002)\n",
            "       Predict: 0.0\n",
            "      Else (feature 9 > 229.85000000000002)\n",
            "       Predict: 1.0\n",
            "\n"
          ],
          "name": "stdout"
        }
      ]
    },
    {
      "cell_type": "code",
      "metadata": {
        "id": "5G4UoIqP841Z",
        "colab_type": "code",
        "colab": {
          "base_uri": "https://localhost:8080/",
          "height": 55
        },
        "outputId": "4c1f4434-ed50-4908-9ccc-73b76d857bfe"
      },
      "source": [
        "head = trainData.first()\n",
        "head"
      ],
      "execution_count": 23,
      "outputs": [
        {
          "output_type": "execute_result",
          "data": {
            "text/plain": [
              "LabeledPoint(0.0, [0.0,1.0,25.0,265.1,110.0,45.07,197.4,99.0,16.78,244.7,91.0,11.01,10.0,3.0,2.7,1.0])"
            ]
          },
          "metadata": {
            "tags": []
          },
          "execution_count": 23
        }
      ]
    },
    {
      "cell_type": "code",
      "metadata": {
        "id": "5aLihLPA9FLF",
        "colab_type": "code",
        "colab": {
          "base_uri": "https://localhost:8080/",
          "height": 55
        },
        "outputId": "dc8c54a8-88db-4eee-eea7-755a2fb64614"
      },
      "source": [
        "head.features"
      ],
      "execution_count": 24,
      "outputs": [
        {
          "output_type": "execute_result",
          "data": {
            "text/plain": [
              "DenseVector([0.0, 1.0, 25.0, 265.1, 110.0, 45.07, 197.4, 99.0, 16.78, 244.7, 91.0, 11.01, 10.0, 3.0, 2.7, 1.0])"
            ]
          },
          "metadata": {
            "tags": []
          },
          "execution_count": 24
        }
      ]
    },
    {
      "cell_type": "code",
      "metadata": {
        "id": "_td9ieVZ9K1-",
        "colab_type": "code",
        "colab": {
          "base_uri": "https://localhost:8080/",
          "height": 35
        },
        "outputId": "b61991e3-7d09-42d7-f568-33d867408000"
      },
      "source": [
        "print(model.predict(head.features))"
      ],
      "execution_count": 25,
      "outputs": [
        {
          "output_type": "stream",
          "text": [
            "0.0\n"
          ],
          "name": "stdout"
        }
      ]
    },
    {
      "cell_type": "code",
      "metadata": {
        "id": "dcIN5RQS9QBs",
        "colab_type": "code",
        "colab": {}
      },
      "source": [
        "predictions = model.predict(trainData.map(lambda p: p.features))"
      ],
      "execution_count": 0,
      "outputs": []
    },
    {
      "cell_type": "code",
      "metadata": {
        "id": "-QrjgC1Z9x3Y",
        "colab_type": "code",
        "colab": {
          "base_uri": "https://localhost:8080/",
          "height": 35
        },
        "outputId": "19f1bf06-6870-4c2d-dbd5-f9083089a175"
      },
      "source": [
        "predictions.take(3)"
      ],
      "execution_count": 28,
      "outputs": [
        {
          "output_type": "execute_result",
          "data": {
            "text/plain": [
              "[0.0, 0.0, 0.0]"
            ]
          },
          "metadata": {
            "tags": []
          },
          "execution_count": 28
        }
      ]
    },
    {
      "cell_type": "code",
      "metadata": {
        "id": "azSE-ej09tfq",
        "colab_type": "code",
        "colab": {}
      },
      "source": [
        "labels_and_preds = trainData.map(lambda p: p.label).zip(predictions)"
      ],
      "execution_count": 0,
      "outputs": []
    },
    {
      "cell_type": "code",
      "metadata": {
        "id": "3lzrKgL3-J45",
        "colab_type": "code",
        "colab": {}
      },
      "source": [
        "from pyspark.mllib.evaluation import MulticlassMetrics\n",
        "metrics = MulticlassMetrics(labels_and_preds)"
      ],
      "execution_count": 0,
      "outputs": []
    },
    {
      "cell_type": "code",
      "metadata": {
        "id": "0agObyLS-ReX",
        "colab_type": "code",
        "colab": {
          "base_uri": "https://localhost:8080/",
          "height": 87
        },
        "outputId": "5d05a75a-fc10-464e-ed8f-753926721274"
      },
      "source": [
        "precision = metrics.precision()\n",
        "recall = metrics.recall()\n",
        "f1Score = metrics.fMeasure()\n",
        "\n",
        "print(\"Summary Stats\")\n",
        "print(\"Precision = %s\" % precision)\n",
        "print(\"Recall = %s\" % recall)\n",
        "print(\"F1 Score = %s\" % f1Score)\n"
      ],
      "execution_count": 31,
      "outputs": [
        {
          "output_type": "stream",
          "text": [
            "Summary Stats\n",
            "Precision = 0.9492949294929492\n",
            "Recall = 0.9492949294929492\n",
            "F1 Score = 0.9492949294929492\n"
          ],
          "name": "stdout"
        }
      ]
    },
    {
      "cell_type": "code",
      "metadata": {
        "id": "RJujbfeM-Xj-",
        "colab_type": "code",
        "colab": {
          "base_uri": "https://localhost:8080/",
          "height": 641
        },
        "outputId": "0636d679-3dc3-4e8e-9665-e814e38b36a8"
      },
      "source": [
        "dir(metrics.confusionMatrix())"
      ],
      "execution_count": 33,
      "outputs": [
        {
          "output_type": "execute_result",
          "data": {
            "text/plain": [
              "['__UDT__',\n",
              " '__class__',\n",
              " '__delattr__',\n",
              " '__dict__',\n",
              " '__dir__',\n",
              " '__doc__',\n",
              " '__eq__',\n",
              " '__format__',\n",
              " '__ge__',\n",
              " '__getattribute__',\n",
              " '__getitem__',\n",
              " '__gt__',\n",
              " '__hash__',\n",
              " '__init__',\n",
              " '__init_subclass__',\n",
              " '__le__',\n",
              " '__lt__',\n",
              " '__module__',\n",
              " '__ne__',\n",
              " '__new__',\n",
              " '__reduce__',\n",
              " '__reduce_ex__',\n",
              " '__repr__',\n",
              " '__setattr__',\n",
              " '__sizeof__',\n",
              " '__str__',\n",
              " '__subclasshook__',\n",
              " '__weakref__',\n",
              " '_convert_to_array',\n",
              " 'asML',\n",
              " 'isTransposed',\n",
              " 'numCols',\n",
              " 'numRows',\n",
              " 'toArray',\n",
              " 'toSparse',\n",
              " 'values']"
            ]
          },
          "metadata": {
            "tags": []
          },
          "execution_count": 33
        }
      ]
    },
    {
      "cell_type": "code",
      "metadata": {
        "id": "H0h1-jy-_fC2",
        "colab_type": "code",
        "colab": {
          "base_uri": "https://localhost:8080/",
          "height": 52
        },
        "outputId": "631236e6-c0f6-4374-adbb-af0d846c25d8"
      },
      "source": [
        "metrics.confusionMatrix().toArray()"
      ],
      "execution_count": 34,
      "outputs": [
        {
          "output_type": "execute_result",
          "data": {
            "text/plain": [
              "array([[2817.,  136.],\n",
              "       [  33.,  347.]])"
            ]
          },
          "metadata": {
            "tags": []
          },
          "execution_count": 34
        }
      ]
    },
    {
      "cell_type": "code",
      "metadata": {
        "id": "0p4Tdxst_oAT",
        "colab_type": "code",
        "colab": {
          "base_uri": "https://localhost:8080/",
          "height": 52
        },
        "outputId": "b078b921-ff78-4278-cfad-2dcd1d897588"
      },
      "source": [
        "from pyspark.mllib.evaluation import BinaryClassificationMetrics\n",
        "\n",
        "metrics = BinaryClassificationMetrics(labels_and_preds)\n",
        "\n",
        "print(\"Area under PR = %s\" % metrics.areaUnderPR)\n",
        "print(\"Area under ROC = %s\" % metrics.areaUnderROC)\n"
      ],
      "execution_count": 35,
      "outputs": [
        {
          "output_type": "stream",
          "text": [
            "Area under PR = 0.6921821611713312\n",
            "Area under ROC = 0.9335515176359455\n"
          ],
          "name": "stdout"
        }
      ]
    },
    {
      "cell_type": "markdown",
      "metadata": {
        "id": "T39AuVGuFHFM",
        "colab_type": "text"
      },
      "source": [
        "## 降低維度\n",
        "- 欄位篩選 (Feature Selection)\n",
        "- 欄位萃取 (Feature Extraction)"
      ]
    },
    {
      "cell_type": "markdown",
      "metadata": {
        "id": "825gT1XjFBjv",
        "colab_type": "text"
      },
      "source": [
        "### 欄位篩選"
      ]
    },
    {
      "cell_type": "code",
      "metadata": {
        "id": "V9c4uqVxFTXi",
        "colab_type": "code",
        "colab": {}
      },
      "source": [
        "import pandas\n",
        "df = pandas.read_csv('customer_churn.csv', index_col = 0)"
      ],
      "execution_count": 0,
      "outputs": []
    },
    {
      "cell_type": "code",
      "metadata": {
        "id": "MfAqX-ztFbvs",
        "colab_type": "code",
        "colab": {}
      },
      "source": [
        "df = df.iloc[:,3:]"
      ],
      "execution_count": 0,
      "outputs": []
    },
    {
      "cell_type": "code",
      "metadata": {
        "id": "XvDePwTTFufc",
        "colab_type": "code",
        "colab": {
          "base_uri": "https://localhost:8080/",
          "height": 222
        },
        "outputId": "3e8fb92c-08c2-4df0-cecd-eaf7fc8163b8"
      },
      "source": [
        "df.head()"
      ],
      "execution_count": 41,
      "outputs": [
        {
          "output_type": "execute_result",
          "data": {
            "text/html": [
              "<div>\n",
              "<style scoped>\n",
              "    .dataframe tbody tr th:only-of-type {\n",
              "        vertical-align: middle;\n",
              "    }\n",
              "\n",
              "    .dataframe tbody tr th {\n",
              "        vertical-align: top;\n",
              "    }\n",
              "\n",
              "    .dataframe thead th {\n",
              "        text-align: right;\n",
              "    }\n",
              "</style>\n",
              "<table border=\"1\" class=\"dataframe\">\n",
              "  <thead>\n",
              "    <tr style=\"text-align: right;\">\n",
              "      <th></th>\n",
              "      <th>international_plan</th>\n",
              "      <th>voice_mail_plan</th>\n",
              "      <th>number_vmail_messages</th>\n",
              "      <th>total_day_minutes</th>\n",
              "      <th>total_day_calls</th>\n",
              "      <th>total_day_charge</th>\n",
              "      <th>total_eve_minutes</th>\n",
              "      <th>total_eve_calls</th>\n",
              "      <th>total_eve_charge</th>\n",
              "      <th>total_night_minutes</th>\n",
              "      <th>total_night_calls</th>\n",
              "      <th>total_night_charge</th>\n",
              "      <th>total_intl_minutes</th>\n",
              "      <th>total_intl_calls</th>\n",
              "      <th>total_intl_charge</th>\n",
              "      <th>number_customer_service_calls</th>\n",
              "      <th>churn</th>\n",
              "    </tr>\n",
              "  </thead>\n",
              "  <tbody>\n",
              "    <tr>\n",
              "      <th>1</th>\n",
              "      <td>no</td>\n",
              "      <td>yes</td>\n",
              "      <td>25</td>\n",
              "      <td>265.1</td>\n",
              "      <td>110</td>\n",
              "      <td>45.07</td>\n",
              "      <td>197.4</td>\n",
              "      <td>99</td>\n",
              "      <td>16.78</td>\n",
              "      <td>244.7</td>\n",
              "      <td>91</td>\n",
              "      <td>11.01</td>\n",
              "      <td>10.0</td>\n",
              "      <td>3</td>\n",
              "      <td>2.70</td>\n",
              "      <td>1</td>\n",
              "      <td>no</td>\n",
              "    </tr>\n",
              "    <tr>\n",
              "      <th>2</th>\n",
              "      <td>no</td>\n",
              "      <td>yes</td>\n",
              "      <td>26</td>\n",
              "      <td>161.6</td>\n",
              "      <td>123</td>\n",
              "      <td>27.47</td>\n",
              "      <td>195.5</td>\n",
              "      <td>103</td>\n",
              "      <td>16.62</td>\n",
              "      <td>254.4</td>\n",
              "      <td>103</td>\n",
              "      <td>11.45</td>\n",
              "      <td>13.7</td>\n",
              "      <td>3</td>\n",
              "      <td>3.70</td>\n",
              "      <td>1</td>\n",
              "      <td>no</td>\n",
              "    </tr>\n",
              "    <tr>\n",
              "      <th>3</th>\n",
              "      <td>no</td>\n",
              "      <td>no</td>\n",
              "      <td>0</td>\n",
              "      <td>243.4</td>\n",
              "      <td>114</td>\n",
              "      <td>41.38</td>\n",
              "      <td>121.2</td>\n",
              "      <td>110</td>\n",
              "      <td>10.30</td>\n",
              "      <td>162.6</td>\n",
              "      <td>104</td>\n",
              "      <td>7.32</td>\n",
              "      <td>12.2</td>\n",
              "      <td>5</td>\n",
              "      <td>3.29</td>\n",
              "      <td>0</td>\n",
              "      <td>no</td>\n",
              "    </tr>\n",
              "    <tr>\n",
              "      <th>4</th>\n",
              "      <td>yes</td>\n",
              "      <td>no</td>\n",
              "      <td>0</td>\n",
              "      <td>299.4</td>\n",
              "      <td>71</td>\n",
              "      <td>50.90</td>\n",
              "      <td>61.9</td>\n",
              "      <td>88</td>\n",
              "      <td>5.26</td>\n",
              "      <td>196.9</td>\n",
              "      <td>89</td>\n",
              "      <td>8.86</td>\n",
              "      <td>6.6</td>\n",
              "      <td>7</td>\n",
              "      <td>1.78</td>\n",
              "      <td>2</td>\n",
              "      <td>no</td>\n",
              "    </tr>\n",
              "    <tr>\n",
              "      <th>5</th>\n",
              "      <td>yes</td>\n",
              "      <td>no</td>\n",
              "      <td>0</td>\n",
              "      <td>166.7</td>\n",
              "      <td>113</td>\n",
              "      <td>28.34</td>\n",
              "      <td>148.3</td>\n",
              "      <td>122</td>\n",
              "      <td>12.61</td>\n",
              "      <td>186.9</td>\n",
              "      <td>121</td>\n",
              "      <td>8.41</td>\n",
              "      <td>10.1</td>\n",
              "      <td>3</td>\n",
              "      <td>2.73</td>\n",
              "      <td>3</td>\n",
              "      <td>no</td>\n",
              "    </tr>\n",
              "  </tbody>\n",
              "</table>\n",
              "</div>"
            ],
            "text/plain": [
              "  international_plan voice_mail_plan  ...  number_customer_service_calls  churn\n",
              "1                 no             yes  ...                              1     no\n",
              "2                 no             yes  ...                              1     no\n",
              "3                 no              no  ...                              0     no\n",
              "4                yes              no  ...                              2     no\n",
              "5                yes              no  ...                              3     no\n",
              "\n",
              "[5 rows x 17 columns]"
            ]
          },
          "metadata": {
            "tags": []
          },
          "execution_count": 41
        }
      ]
    },
    {
      "cell_type": "code",
      "metadata": {
        "id": "6MepMICdFyiz",
        "colab_type": "code",
        "colab": {
          "base_uri": "https://localhost:8080/",
          "height": 433
        },
        "outputId": "5b587982-d7a7-46da-b95a-e0c57e213126"
      },
      "source": [
        "df.info()"
      ],
      "execution_count": 42,
      "outputs": [
        {
          "output_type": "stream",
          "text": [
            "<class 'pandas.core.frame.DataFrame'>\n",
            "Int64Index: 3333 entries, 1 to 3333\n",
            "Data columns (total 17 columns):\n",
            " #   Column                         Non-Null Count  Dtype  \n",
            "---  ------                         --------------  -----  \n",
            " 0   international_plan             3333 non-null   object \n",
            " 1   voice_mail_plan                3333 non-null   object \n",
            " 2   number_vmail_messages          3333 non-null   int64  \n",
            " 3   total_day_minutes              3333 non-null   float64\n",
            " 4   total_day_calls                3333 non-null   int64  \n",
            " 5   total_day_charge               3333 non-null   float64\n",
            " 6   total_eve_minutes              3333 non-null   float64\n",
            " 7   total_eve_calls                3333 non-null   int64  \n",
            " 8   total_eve_charge               3333 non-null   float64\n",
            " 9   total_night_minutes            3333 non-null   float64\n",
            " 10  total_night_calls              3333 non-null   int64  \n",
            " 11  total_night_charge             3333 non-null   float64\n",
            " 12  total_intl_minutes             3333 non-null   float64\n",
            " 13  total_intl_calls               3333 non-null   int64  \n",
            " 14  total_intl_charge              3333 non-null   float64\n",
            " 15  number_customer_service_calls  3333 non-null   int64  \n",
            " 16  churn                          3333 non-null   object \n",
            "dtypes: float64(8), int64(6), object(3)\n",
            "memory usage: 468.7+ KB\n"
          ],
          "name": "stdout"
        }
      ]
    },
    {
      "cell_type": "code",
      "metadata": {
        "id": "9vPSi6S2F2Sr",
        "colab_type": "code",
        "colab": {}
      },
      "source": [
        "df['international_plan'] = df['international_plan'].replace({'no': 0, 'yes': 1})\n",
        "df['voice_mail_plan'] = df['voice_mail_plan'].replace({'no': 0, 'yes': 1})\n",
        "df['churn'] = df['churn'].replace({'no': 0, 'yes': 1})"
      ],
      "execution_count": 0,
      "outputs": []
    },
    {
      "cell_type": "code",
      "metadata": {
        "id": "40bBuhBAGFax",
        "colab_type": "code",
        "colab": {
          "base_uri": "https://localhost:8080/",
          "height": 222
        },
        "outputId": "5a4c917e-3f1c-4a2a-9a0a-7a45a987c1d6"
      },
      "source": [
        "df.head()"
      ],
      "execution_count": 44,
      "outputs": [
        {
          "output_type": "execute_result",
          "data": {
            "text/html": [
              "<div>\n",
              "<style scoped>\n",
              "    .dataframe tbody tr th:only-of-type {\n",
              "        vertical-align: middle;\n",
              "    }\n",
              "\n",
              "    .dataframe tbody tr th {\n",
              "        vertical-align: top;\n",
              "    }\n",
              "\n",
              "    .dataframe thead th {\n",
              "        text-align: right;\n",
              "    }\n",
              "</style>\n",
              "<table border=\"1\" class=\"dataframe\">\n",
              "  <thead>\n",
              "    <tr style=\"text-align: right;\">\n",
              "      <th></th>\n",
              "      <th>international_plan</th>\n",
              "      <th>voice_mail_plan</th>\n",
              "      <th>number_vmail_messages</th>\n",
              "      <th>total_day_minutes</th>\n",
              "      <th>total_day_calls</th>\n",
              "      <th>total_day_charge</th>\n",
              "      <th>total_eve_minutes</th>\n",
              "      <th>total_eve_calls</th>\n",
              "      <th>total_eve_charge</th>\n",
              "      <th>total_night_minutes</th>\n",
              "      <th>total_night_calls</th>\n",
              "      <th>total_night_charge</th>\n",
              "      <th>total_intl_minutes</th>\n",
              "      <th>total_intl_calls</th>\n",
              "      <th>total_intl_charge</th>\n",
              "      <th>number_customer_service_calls</th>\n",
              "      <th>churn</th>\n",
              "    </tr>\n",
              "  </thead>\n",
              "  <tbody>\n",
              "    <tr>\n",
              "      <th>1</th>\n",
              "      <td>0</td>\n",
              "      <td>1</td>\n",
              "      <td>25</td>\n",
              "      <td>265.1</td>\n",
              "      <td>110</td>\n",
              "      <td>45.07</td>\n",
              "      <td>197.4</td>\n",
              "      <td>99</td>\n",
              "      <td>16.78</td>\n",
              "      <td>244.7</td>\n",
              "      <td>91</td>\n",
              "      <td>11.01</td>\n",
              "      <td>10.0</td>\n",
              "      <td>3</td>\n",
              "      <td>2.70</td>\n",
              "      <td>1</td>\n",
              "      <td>0</td>\n",
              "    </tr>\n",
              "    <tr>\n",
              "      <th>2</th>\n",
              "      <td>0</td>\n",
              "      <td>1</td>\n",
              "      <td>26</td>\n",
              "      <td>161.6</td>\n",
              "      <td>123</td>\n",
              "      <td>27.47</td>\n",
              "      <td>195.5</td>\n",
              "      <td>103</td>\n",
              "      <td>16.62</td>\n",
              "      <td>254.4</td>\n",
              "      <td>103</td>\n",
              "      <td>11.45</td>\n",
              "      <td>13.7</td>\n",
              "      <td>3</td>\n",
              "      <td>3.70</td>\n",
              "      <td>1</td>\n",
              "      <td>0</td>\n",
              "    </tr>\n",
              "    <tr>\n",
              "      <th>3</th>\n",
              "      <td>0</td>\n",
              "      <td>0</td>\n",
              "      <td>0</td>\n",
              "      <td>243.4</td>\n",
              "      <td>114</td>\n",
              "      <td>41.38</td>\n",
              "      <td>121.2</td>\n",
              "      <td>110</td>\n",
              "      <td>10.30</td>\n",
              "      <td>162.6</td>\n",
              "      <td>104</td>\n",
              "      <td>7.32</td>\n",
              "      <td>12.2</td>\n",
              "      <td>5</td>\n",
              "      <td>3.29</td>\n",
              "      <td>0</td>\n",
              "      <td>0</td>\n",
              "    </tr>\n",
              "    <tr>\n",
              "      <th>4</th>\n",
              "      <td>1</td>\n",
              "      <td>0</td>\n",
              "      <td>0</td>\n",
              "      <td>299.4</td>\n",
              "      <td>71</td>\n",
              "      <td>50.90</td>\n",
              "      <td>61.9</td>\n",
              "      <td>88</td>\n",
              "      <td>5.26</td>\n",
              "      <td>196.9</td>\n",
              "      <td>89</td>\n",
              "      <td>8.86</td>\n",
              "      <td>6.6</td>\n",
              "      <td>7</td>\n",
              "      <td>1.78</td>\n",
              "      <td>2</td>\n",
              "      <td>0</td>\n",
              "    </tr>\n",
              "    <tr>\n",
              "      <th>5</th>\n",
              "      <td>1</td>\n",
              "      <td>0</td>\n",
              "      <td>0</td>\n",
              "      <td>166.7</td>\n",
              "      <td>113</td>\n",
              "      <td>28.34</td>\n",
              "      <td>148.3</td>\n",
              "      <td>122</td>\n",
              "      <td>12.61</td>\n",
              "      <td>186.9</td>\n",
              "      <td>121</td>\n",
              "      <td>8.41</td>\n",
              "      <td>10.1</td>\n",
              "      <td>3</td>\n",
              "      <td>2.73</td>\n",
              "      <td>3</td>\n",
              "      <td>0</td>\n",
              "    </tr>\n",
              "  </tbody>\n",
              "</table>\n",
              "</div>"
            ],
            "text/plain": [
              "   international_plan  voice_mail_plan  ...  number_customer_service_calls  churn\n",
              "1                   0                1  ...                              1      0\n",
              "2                   0                1  ...                              1      0\n",
              "3                   0                0  ...                              0      0\n",
              "4                   1                0  ...                              2      0\n",
              "5                   1                0  ...                              3      0\n",
              "\n",
              "[5 rows x 17 columns]"
            ]
          },
          "metadata": {
            "tags": []
          },
          "execution_count": 44
        }
      ]
    },
    {
      "cell_type": "code",
      "metadata": {
        "id": "3Iln_qjpGISf",
        "colab_type": "code",
        "colab": {}
      },
      "source": [
        "X = df.iloc[:,:-1]\n",
        "y = df.iloc[:,-1].values"
      ],
      "execution_count": 0,
      "outputs": []
    },
    {
      "cell_type": "code",
      "metadata": {
        "id": "cwKziqNYGM8D",
        "colab_type": "code",
        "colab": {}
      },
      "source": [
        "from itertools import combinations\n",
        "total_features = len(X.columns)\n",
        "ary = []\n",
        "for i in range(1, total_features + 1):\n",
        "  for ele in combinations(X.columns, i):\n",
        "    ary.append(ele)"
      ],
      "execution_count": 0,
      "outputs": []
    },
    {
      "cell_type": "code",
      "metadata": {
        "id": "27ZceFY2GuZ6",
        "colab_type": "code",
        "colab": {
          "base_uri": "https://localhost:8080/",
          "height": 35
        },
        "outputId": "86a53af0-3ca6-4200-cad0-4c19587b89fd"
      },
      "source": [
        "len(ary)"
      ],
      "execution_count": 51,
      "outputs": [
        {
          "output_type": "execute_result",
          "data": {
            "text/plain": [
              "65535"
            ]
          },
          "metadata": {
            "tags": []
          },
          "execution_count": 51
        }
      ]
    },
    {
      "cell_type": "code",
      "metadata": {
        "id": "kTD5dkLABG-a",
        "colab_type": "code",
        "colab": {}
      },
      "source": [
        "from sklearn.feature_selection import RFE\n",
        "from sklearn.linear_model import LogisticRegression\n",
        "# create the RFE model and select 3 attributes\n",
        "clf_LR = LogisticRegression(C=1e30)\n",
        "clf_LR.fit(X,y)\n",
        "\n",
        "rfe = RFE(clf_LR, 10)\n",
        "rfe = rfe.fit(X, y)\n",
        "\n",
        "# summarize the selection of the attributes\n",
        "print(rfe.support_)\n",
        "print(rfe.ranking_)"
      ],
      "execution_count": 0,
      "outputs": []
    },
    {
      "cell_type": "code",
      "metadata": {
        "id": "UlyIWyaEHHOy",
        "colab_type": "code",
        "colab": {}
      },
      "source": [
        "from sklearn.feature_selection import RFECV\n",
        "from sklearn.linear_model import LogisticRegression\n",
        "# create the RFE model and select 3 attributes\n",
        "clf_LR = LogisticRegression(C=1e30)\n",
        "clf_LR.fit(X,y)\n",
        "\n",
        "rfe = RFECV(clf_LR,  step=1, cv=5)\n",
        "rfe = rfe.fit(X, y)\n",
        "\n",
        "# summarize the selection of the attributes\n",
        "print(rfe.support_)\n",
        "print(rfe.ranking_)"
      ],
      "execution_count": 0,
      "outputs": []
    },
    {
      "cell_type": "code",
      "metadata": {
        "id": "xwjcukgNHf31",
        "colab_type": "code",
        "colab": {
          "base_uri": "https://localhost:8080/",
          "height": 69
        },
        "outputId": "f22dd9ab-0bb9-4944-abcb-cb4d40521bab"
      },
      "source": [
        "from sklearn.decomposition import PCA \n",
        "pca = PCA(n_components=10, whiten=True)\n",
        "X_train_pca = pca.fit_transform(X)\n",
        "explained_variance = pca.explained_variance_\n",
        "print('Expected Variance is '+ str(explained_variance))"
      ],
      "execution_count": 56,
      "outputs": [
        {
          "output_type": "stream",
          "text": [
            "Expected Variance is [3.05388403e+03 2.61220489e+03 2.54077186e+03 4.05279651e+02\n",
            " 3.97223653e+02 3.79196617e+02 1.87423545e+02 8.37522809e+00\n",
            " 6.03140001e+00 1.72770261e+00]\n"
          ],
          "name": "stdout"
        }
      ]
    },
    {
      "cell_type": "markdown",
      "metadata": {
        "id": "QLVSaosZQIX9",
        "colab_type": "text"
      },
      "source": [
        "## Spark Streaming\n",
        "- https://github.com/ywchiu/chtspark/blob/master/Streaming/Streaming.py\n",
        "- https://github.com/ywchiu/chtspark/blob/master/Streaming/StreamingWindow.py"
      ]
    }
  ]
}