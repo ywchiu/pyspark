{
  "nbformat": 4,
  "nbformat_minor": 0,
  "metadata": {
    "colab": {
      "name": "Demo20200507.ipynb",
      "provenance": [],
      "collapsed_sections": []
    },
    "kernelspec": {
      "name": "python3",
      "display_name": "Python 3"
    }
  },
  "cells": [
    {
      "cell_type": "markdown",
      "metadata": {
        "id": "SF5T13xGwoRD",
        "colab_type": "text"
      },
      "source": [
        "## 安裝 Spark"
      ]
    },
    {
      "cell_type": "code",
      "metadata": {
        "id": "xiyxhszPsTk5",
        "colab_type": "code",
        "colab": {}
      },
      "source": [
        "! apt-get install openjdk-8-jdk-headless -qq > /dev/null"
      ],
      "execution_count": 0,
      "outputs": []
    },
    {
      "cell_type": "code",
      "metadata": {
        "id": "CVRDjwH6wsyZ",
        "colab_type": "code",
        "colab": {}
      },
      "source": [
        "! wget -q https://www-us.apache.org/dist/spark/spark-2.4.5/spark-2.4.5-bin-hadoop2.7.tgz"
      ],
      "execution_count": 0,
      "outputs": []
    },
    {
      "cell_type": "code",
      "metadata": {
        "id": "oq1PxUp8w7bk",
        "colab_type": "code",
        "colab": {}
      },
      "source": [
        "! tar xf spark-2.4.5-bin-hadoop2.7.tgz"
      ],
      "execution_count": 0,
      "outputs": []
    },
    {
      "cell_type": "code",
      "metadata": {
        "id": "c2ay0ccpw_rn",
        "colab_type": "code",
        "colab": {}
      },
      "source": [
        "! pip install -q findspark"
      ],
      "execution_count": 0,
      "outputs": []
    },
    {
      "cell_type": "code",
      "metadata": {
        "id": "YYzj0Qx1xbXY",
        "colab_type": "code",
        "colab": {}
      },
      "source": [
        "import os\n",
        "os.environ[\"JAVA_HOME\"] = \"/usr/lib/jvm/java-1.8.0-openjdk-amd64\"\n",
        "os.environ[\"SPARK_HOME\"] = \"/content/spark-2.4.5-bin-hadoop2.7\""
      ],
      "execution_count": 0,
      "outputs": []
    },
    {
      "cell_type": "code",
      "metadata": {
        "id": "ooOAdxHtxgCG",
        "colab_type": "code",
        "colab": {}
      },
      "source": [
        "\n",
        "import findspark\n",
        "findspark.init()\n",
        "from pyspark.sql import SparkSession\n",
        "spark = SparkSession.builder.master(\"local[*]\").getOrCreate()"
      ],
      "execution_count": 0,
      "outputs": []
    },
    {
      "cell_type": "code",
      "metadata": {
        "id": "PUs2rxWoxmNG",
        "colab_type": "code",
        "colab": {}
      },
      "source": [
        "from pyspark import SparkContext\n",
        "sc = SparkContext.getOrCreate()"
      ],
      "execution_count": 0,
      "outputs": []
    },
    {
      "cell_type": "markdown",
      "metadata": {
        "id": "HB3J51BkyHQd",
        "colab_type": "text"
      },
      "source": [
        "## 實例示範"
      ]
    },
    {
      "cell_type": "markdown",
      "metadata": {
        "id": "pZzWcbRb2ztR",
        "colab_type": "text"
      },
      "source": [
        "### 範例一"
      ]
    },
    {
      "cell_type": "code",
      "metadata": {
        "id": "opW5agWox3Y1",
        "colab_type": "code",
        "outputId": "d9e345f6-873f-40e6-ad23-e98936755723",
        "colab": {
          "base_uri": "https://localhost:8080/",
          "height": 228
        }
      },
      "source": [
        "! wget \"https://raw.githubusercontent.com/ywchiu/pyspark/master/data/cyber_breaches.tsv\""
      ],
      "execution_count": 0,
      "outputs": [
        {
          "output_type": "stream",
          "text": [
            "--2020-05-07 10:58:07--  https://raw.githubusercontent.com/ywchiu/pyspark/master/data/cyber_breaches.tsv\n",
            "Resolving raw.githubusercontent.com (raw.githubusercontent.com)... 151.101.0.133, 151.101.64.133, 151.101.128.133, ...\n",
            "Connecting to raw.githubusercontent.com (raw.githubusercontent.com)|151.101.0.133|:443... connected.\n",
            "HTTP request sent, awaiting response... 200 OK\n",
            "Length: 256462 (250K) [text/plain]\n",
            "Saving to: ‘cyber_breaches.tsv’\n",
            "\n",
            "cyber_breaches.tsv  100%[===================>] 250.45K  --.-KB/s    in 0.05s   \n",
            "\n",
            "2020-05-07 10:58:08 (4.56 MB/s) - ‘cyber_breaches.tsv’ saved [256462/256462]\n",
            "\n"
          ],
          "name": "stdout"
        }
      ]
    },
    {
      "cell_type": "code",
      "metadata": {
        "id": "w_U9VyhiyRFE",
        "colab_type": "code",
        "outputId": "20a3c53b-77fd-4986-c1db-d577085eee14",
        "colab": {
          "base_uri": "https://localhost:8080/",
          "height": 211
        }
      },
      "source": [
        "!  head cyber_breaches.tsv"
      ],
      "execution_count": 0,
      "outputs": [
        {
          "output_type": "stream",
          "text": [
            "\tNumber\tName_of_Covered_Entity\tState\tBusiness_Associate_Involved\tIndividuals_Affected\tDate_of_Breach\tType_of_Breach\tLocation_of_Breached_Information\tDate_Posted_or_Updated\tSummary\tbreach_start\tbreach_end\tyear\n",
            "1\t0\tBrooke Army Medical Center\tTX\t\t1000\t10/16/2009\tTheft\tPaper\t2014-06-30\tA binder containing the protected health information (PHI) of up to 1,272 individuals was stolen from a staff member's vehicle.  The PHI included names, telephone numbers, detailed treatment notes, and possibly social security numbers.  In response to the breach, the covered entity (CE) sanctioned the workforce member and developed a new policy requiring on-call staff members to submit any information created during their shifts to the main office instead of adding it to the binder.  Following OCR's investigation, the CE notified the local media about the breach.\t2009-10-16\t\t2009\n",
            "2\t1\tMid America Kidney Stone Association, LLC\tMO\t\t1000\t9/22/2009\tTheft\tNetwork Server\t2014-05-30\tFive desktop computers containing unencrypted electronic protected health information (e-PHI) were stolen from the covered entity (CE).  Originally, the CE reported that over 500 persons were involved, but subsequent investigation showed that about 260 persons were involved.  The ePHI included demographic and financial information. The CE provided breach notification to affected individuals and HHS.  Following the breach, the CE improved physical security by installing motion detectors and alarm systems security monitoring.  It improved technical safeguards by installing enhanced antivirus and encryption software.  As a result of OCR's investigation the CE updated its computer password policy.  \t2009-09-22\t\t2009\n",
            "3\t2\tAlaska Department of Health and Social Services\tAK\t\t501\t10/12/2009\tTheft\tOther Portable Electronic Device, Other\t2014-01-23\t\t2009-10-12\t\t2009\n",
            "4\t3\tHealth Services for Children with Special Needs, Inc.\tDC\t\t3800\t10/9/2009\tLoss\tLaptop\t2014-01-23\t\"A laptop was lost by an employee while in transit on public transportation.  The computer contained the protected health information of 3800 individuals.  The protected health information involved in the breach included names, Medicaid ID numbers, dates of birth, and primary physicians.  In response to this incident, the covered entity took steps to enforce the requirements of the Privacy & Security Rules.  The covered entity has installed encryption software on all employee computers, strengthened access controls including passwords, reviewed and updated security policies and procedures, and updated it risk assessment.  In addition, all employees received additional security training.  \n",
            "\n",
            "\"\t2009-10-09\t\t2009\n",
            "5\t4\tL. Douglas Carlson, M.D.\tCA\t\t5257\t9/27/2009\tTheft\tDesktop Computer\t2014-01-23\t\"A shared Computer that was used for backup was stolen on 9/27/09 from the reception desk area of the covered entity. The Computer contained certain electronic protected health information (ePHI) of 5,257 individuals who were patients of the CE.  The ePHI involved in the breach included names, dates of birth, and clinical information, but there were no social security numbers, financial information, addresses, phone numbers, or other ePHI in any of the reports on the disks or the hard drive on the stolen Computer. Following the breach, the covered entity notified all 5,257 affected individuals and the appropriate media; added technical safeguards of encryption for all ePHI stored on the USB flash drive or the CD used on the replacement computer; added physical safeguards by keeping new portable devices locked when not in use in a secure combination safe in doctor's private office or in a secure filing cabinet; and added administrative safeguards by requiring annual refresher retraining of CE staff for Privacy and Security Rules as well as requiring immediate retraining of cleaning staff in both Rules.\n",
            "\n",
            "\"\t2009-09-27\t\t2009\n"
          ],
          "name": "stdout"
        }
      ]
    },
    {
      "cell_type": "code",
      "metadata": {
        "id": "1-eTt7vnyYa2",
        "colab_type": "code",
        "colab": {}
      },
      "source": [
        "rdd = sc.textFile(\"cyber_breaches.tsv\")\n"
      ],
      "execution_count": 0,
      "outputs": []
    },
    {
      "cell_type": "code",
      "metadata": {
        "id": "9_KFFNwJyxMs",
        "colab_type": "code",
        "outputId": "c3a8982d-2e3f-401a-f39a-33e7b1bfe3b3",
        "colab": {
          "base_uri": "https://localhost:8080/",
          "height": 35
        }
      },
      "source": [
        "rdd"
      ],
      "execution_count": 0,
      "outputs": [
        {
          "output_type": "execute_result",
          "data": {
            "text/plain": [
              "cyber_breaches.tsv MapPartitionsRDD[1] at textFile at NativeMethodAccessorImpl.java:0"
            ]
          },
          "metadata": {
            "tags": []
          },
          "execution_count": 11
        }
      ]
    },
    {
      "cell_type": "code",
      "metadata": {
        "id": "ys6eBN9Qyx-D",
        "colab_type": "code",
        "outputId": "04664932-4e3a-4fb4-a751-2e321af54711",
        "colab": {
          "base_uri": "https://localhost:8080/",
          "height": 124
        }
      },
      "source": [
        "rdd.take(5)"
      ],
      "execution_count": 0,
      "outputs": [
        {
          "output_type": "execute_result",
          "data": {
            "text/plain": [
              "['\\tNumber\\tName_of_Covered_Entity\\tState\\tBusiness_Associate_Involved\\tIndividuals_Affected\\tDate_of_Breach\\tType_of_Breach\\tLocation_of_Breached_Information\\tDate_Posted_or_Updated\\tSummary\\tbreach_start\\tbreach_end\\tyear',\n",
              " \"1\\t0\\tBrooke Army Medical Center\\tTX\\t\\t1000\\t10/16/2009\\tTheft\\tPaper\\t2014-06-30\\tA binder containing the protected health information (PHI) of up to 1,272 individuals was stolen from a staff member's vehicle.  The PHI included names, telephone numbers, detailed treatment notes, and possibly social security numbers.  In response to the breach, the covered entity (CE) sanctioned the workforce member and developed a new policy requiring on-call staff members to submit any information created during their shifts to the main office instead of adding it to the binder.  Following OCR's investigation, the CE notified the local media about the breach.\\t2009-10-16\\t\\t2009\",\n",
              " \"2\\t1\\tMid America Kidney Stone Association, LLC\\tMO\\t\\t1000\\t9/22/2009\\tTheft\\tNetwork Server\\t2014-05-30\\tFive desktop computers containing unencrypted electronic protected health information (e-PHI) were stolen from the covered entity (CE).  Originally, the CE reported that over 500 persons were involved, but subsequent investigation showed that about 260 persons were involved.  The ePHI included demographic and financial information. The CE provided breach notification to affected individuals and HHS.  Following the breach, the CE improved physical security by installing motion detectors and alarm systems security monitoring.  It improved technical safeguards by installing enhanced antivirus and encryption software.  As a result of OCR's investigation the CE updated its computer password policy.  \\t2009-09-22\\t\\t2009\",\n",
              " '3\\t2\\tAlaska Department of Health and Social Services\\tAK\\t\\t501\\t10/12/2009\\tTheft\\tOther Portable Electronic Device, Other\\t2014-01-23\\t\\t2009-10-12\\t\\t2009',\n",
              " '4\\t3\\tHealth Services for Children with Special Needs, Inc.\\tDC\\t\\t3800\\t10/9/2009\\tLoss\\tLaptop\\t2014-01-23\\t\"A laptop was lost by an employee while in transit on public transportation.  The computer contained the protected health information of 3800 individuals.  The protected health information involved in the breach included names, Medicaid ID numbers, dates of birth, and primary physicians.  In response to this incident, the covered entity took steps to enforce the requirements of the Privacy & Security Rules.  The covered entity has installed encryption software on all employee computers, strengthened access controls including passwords, reviewed and updated security policies and procedures, and updated it risk assessment.  In addition, all employees received additional security training.  ']"
            ]
          },
          "metadata": {
            "tags": []
          },
          "execution_count": 12
        }
      ]
    },
    {
      "cell_type": "code",
      "metadata": {
        "id": "Oxgb_szgy50q",
        "colab_type": "code",
        "colab": {}
      },
      "source": [
        "header = rdd.first()"
      ],
      "execution_count": 0,
      "outputs": []
    },
    {
      "cell_type": "code",
      "metadata": {
        "id": "RX9IGRlLz0sa",
        "colab_type": "code",
        "outputId": "ba9b8e83-35d7-4caa-a87e-8873ee8e7c14",
        "colab": {
          "base_uri": "https://localhost:8080/",
          "height": 55
        }
      },
      "source": [
        "header"
      ],
      "execution_count": 0,
      "outputs": [
        {
          "output_type": "execute_result",
          "data": {
            "text/plain": [
              "'\\tNumber\\tName_of_Covered_Entity\\tState\\tBusiness_Associate_Involved\\tIndividuals_Affected\\tDate_of_Breach\\tType_of_Breach\\tLocation_of_Breached_Information\\tDate_Posted_or_Updated\\tSummary\\tbreach_start\\tbreach_end\\tyear'"
            ]
          },
          "metadata": {
            "tags": []
          },
          "execution_count": 14
        }
      ]
    },
    {
      "cell_type": "code",
      "metadata": {
        "id": "FLtEbPRhz1UB",
        "colab_type": "code",
        "colab": {}
      },
      "source": [
        "# select * from rdd where line != header\n",
        "content = rdd.filter(lambda line: line != header)"
      ],
      "execution_count": 0,
      "outputs": []
    },
    {
      "cell_type": "code",
      "metadata": {
        "id": "RbW75pvG0D4A",
        "colab_type": "code",
        "outputId": "89cdc029-ec53-49c7-a744-4877c01d40cc",
        "colab": {
          "base_uri": "https://localhost:8080/",
          "height": 89
        }
      },
      "source": [
        "content.take(3)"
      ],
      "execution_count": 0,
      "outputs": [
        {
          "output_type": "execute_result",
          "data": {
            "text/plain": [
              "[\"1\\t0\\tBrooke Army Medical Center\\tTX\\t\\t1000\\t10/16/2009\\tTheft\\tPaper\\t2014-06-30\\tA binder containing the protected health information (PHI) of up to 1,272 individuals was stolen from a staff member's vehicle.  The PHI included names, telephone numbers, detailed treatment notes, and possibly social security numbers.  In response to the breach, the covered entity (CE) sanctioned the workforce member and developed a new policy requiring on-call staff members to submit any information created during their shifts to the main office instead of adding it to the binder.  Following OCR's investigation, the CE notified the local media about the breach.\\t2009-10-16\\t\\t2009\",\n",
              " \"2\\t1\\tMid America Kidney Stone Association, LLC\\tMO\\t\\t1000\\t9/22/2009\\tTheft\\tNetwork Server\\t2014-05-30\\tFive desktop computers containing unencrypted electronic protected health information (e-PHI) were stolen from the covered entity (CE).  Originally, the CE reported that over 500 persons were involved, but subsequent investigation showed that about 260 persons were involved.  The ePHI included demographic and financial information. The CE provided breach notification to affected individuals and HHS.  Following the breach, the CE improved physical security by installing motion detectors and alarm systems security monitoring.  It improved technical safeguards by installing enhanced antivirus and encryption software.  As a result of OCR's investigation the CE updated its computer password policy.  \\t2009-09-22\\t\\t2009\",\n",
              " '3\\t2\\tAlaska Department of Health and Social Services\\tAK\\t\\t501\\t10/12/2009\\tTheft\\tOther Portable Electronic Device, Other\\t2014-01-23\\t\\t2009-10-12\\t\\t2009']"
            ]
          },
          "metadata": {
            "tags": []
          },
          "execution_count": 16
        }
      ]
    },
    {
      "cell_type": "code",
      "metadata": {
        "id": "1cpyxYyi0IzO",
        "colab_type": "code",
        "colab": {}
      },
      "source": [
        "filtered_content = content.filter(lambda line : len(line.split('\\t')) >=10)"
      ],
      "execution_count": 0,
      "outputs": []
    },
    {
      "cell_type": "code",
      "metadata": {
        "id": "RatjJQZy0aLR",
        "colab_type": "code",
        "colab": {}
      },
      "source": [
        "summary = filtered_content.map(lambda line: line.split('\\t')[10])"
      ],
      "execution_count": 0,
      "outputs": []
    },
    {
      "cell_type": "code",
      "metadata": {
        "id": "xwTC9KJ30kd7",
        "colab_type": "code",
        "outputId": "3d1ddd30-7251-4429-a7f1-4afa13d65508",
        "colab": {
          "base_uri": "https://localhost:8080/",
          "height": 89
        }
      },
      "source": [
        "summary.take(3)"
      ],
      "execution_count": 0,
      "outputs": [
        {
          "output_type": "execute_result",
          "data": {
            "text/plain": [
              "[\"A binder containing the protected health information (PHI) of up to 1,272 individuals was stolen from a staff member's vehicle.  The PHI included names, telephone numbers, detailed treatment notes, and possibly social security numbers.  In response to the breach, the covered entity (CE) sanctioned the workforce member and developed a new policy requiring on-call staff members to submit any information created during their shifts to the main office instead of adding it to the binder.  Following OCR's investigation, the CE notified the local media about the breach.\",\n",
              " \"Five desktop computers containing unencrypted electronic protected health information (e-PHI) were stolen from the covered entity (CE).  Originally, the CE reported that over 500 persons were involved, but subsequent investigation showed that about 260 persons were involved.  The ePHI included demographic and financial information. The CE provided breach notification to affected individuals and HHS.  Following the breach, the CE improved physical security by installing motion detectors and alarm systems security monitoring.  It improved technical safeguards by installing enhanced antivirus and encryption software.  As a result of OCR's investigation the CE updated its computer password policy.  \",\n",
              " '']"
            ]
          },
          "metadata": {
            "tags": []
          },
          "execution_count": 20
        }
      ]
    },
    {
      "cell_type": "code",
      "metadata": {
        "id": "jLEnbhQ10nR8",
        "colab_type": "code",
        "outputId": "b106d539-d880-4da0-d5a7-6cc3f6d9a81a",
        "colab": {
          "base_uri": "https://localhost:8080/",
          "height": 35
        }
      },
      "source": [
        "words = summary.flatMap(lambda line : line.lower().split())\n",
        "words.take(3)"
      ],
      "execution_count": 0,
      "outputs": [
        {
          "output_type": "execute_result",
          "data": {
            "text/plain": [
              "['a', 'binder', 'containing']"
            ]
          },
          "metadata": {
            "tags": []
          },
          "execution_count": 23
        }
      ]
    },
    {
      "cell_type": "code",
      "metadata": {
        "id": "rnHPcfJS095Z",
        "colab_type": "code",
        "colab": {}
      },
      "source": [
        "wordCounts = words.countByValue()"
      ],
      "execution_count": 0,
      "outputs": []
    },
    {
      "cell_type": "code",
      "metadata": {
        "id": "hAJBTduJ1XXU",
        "colab_type": "code",
        "colab": {}
      },
      "source": [
        "#wordCounts"
      ],
      "execution_count": 0,
      "outputs": []
    },
    {
      "cell_type": "markdown",
      "metadata": {
        "id": "ouauBcje23Fg",
        "colab_type": "text"
      },
      "source": [
        "### 範例二"
      ]
    },
    {
      "cell_type": "code",
      "metadata": {
        "id": "zdE8AwBC101p",
        "colab_type": "code",
        "colab": {}
      },
      "source": [
        "splited_data = filtered_content.map(lambda line: line.split('\\t'))"
      ],
      "execution_count": 0,
      "outputs": []
    },
    {
      "cell_type": "code",
      "metadata": {
        "id": "YsCiWKBR26tB",
        "colab_type": "code",
        "outputId": "d56ede05-6666-4dff-d29a-56a85880db6f",
        "colab": {
          "base_uri": "https://localhost:8080/",
          "height": 765
        }
      },
      "source": [
        "splited_data.take(3)"
      ],
      "execution_count": 0,
      "outputs": [
        {
          "output_type": "execute_result",
          "data": {
            "text/plain": [
              "[['1',\n",
              "  '0',\n",
              "  'Brooke Army Medical Center',\n",
              "  'TX',\n",
              "  '',\n",
              "  '1000',\n",
              "  '10/16/2009',\n",
              "  'Theft',\n",
              "  'Paper',\n",
              "  '2014-06-30',\n",
              "  \"A binder containing the protected health information (PHI) of up to 1,272 individuals was stolen from a staff member's vehicle.  The PHI included names, telephone numbers, detailed treatment notes, and possibly social security numbers.  In response to the breach, the covered entity (CE) sanctioned the workforce member and developed a new policy requiring on-call staff members to submit any information created during their shifts to the main office instead of adding it to the binder.  Following OCR's investigation, the CE notified the local media about the breach.\",\n",
              "  '2009-10-16',\n",
              "  '',\n",
              "  '2009'],\n",
              " ['2',\n",
              "  '1',\n",
              "  'Mid America Kidney Stone Association, LLC',\n",
              "  'MO',\n",
              "  '',\n",
              "  '1000',\n",
              "  '9/22/2009',\n",
              "  'Theft',\n",
              "  'Network Server',\n",
              "  '2014-05-30',\n",
              "  \"Five desktop computers containing unencrypted electronic protected health information (e-PHI) were stolen from the covered entity (CE).  Originally, the CE reported that over 500 persons were involved, but subsequent investigation showed that about 260 persons were involved.  The ePHI included demographic and financial information. The CE provided breach notification to affected individuals and HHS.  Following the breach, the CE improved physical security by installing motion detectors and alarm systems security monitoring.  It improved technical safeguards by installing enhanced antivirus and encryption software.  As a result of OCR's investigation the CE updated its computer password policy.  \",\n",
              "  '2009-09-22',\n",
              "  '',\n",
              "  '2009'],\n",
              " ['3',\n",
              "  '2',\n",
              "  'Alaska Department of Health and Social Services',\n",
              "  'AK',\n",
              "  '',\n",
              "  '501',\n",
              "  '10/12/2009',\n",
              "  'Theft',\n",
              "  'Other Portable Electronic Device, Other',\n",
              "  '2014-01-23',\n",
              "  '',\n",
              "  '2009-10-12',\n",
              "  '',\n",
              "  '2009']]"
            ]
          },
          "metadata": {
            "tags": []
          },
          "execution_count": 31
        }
      ]
    },
    {
      "cell_type": "code",
      "metadata": {
        "id": "CVI0mggw29HA",
        "colab_type": "code",
        "colab": {}
      },
      "source": [
        "breach_type = splited_data.map(lambda e: ( e[7],int(e[5]) ) )"
      ],
      "execution_count": 0,
      "outputs": []
    },
    {
      "cell_type": "code",
      "metadata": {
        "id": "_W2ZB4mG3cRh",
        "colab_type": "code",
        "outputId": "5088da84-0187-4c74-f105-da922206fcd9",
        "colab": {
          "base_uri": "https://localhost:8080/",
          "height": 104
        }
      },
      "source": [
        "breach_type.take(5)"
      ],
      "execution_count": 0,
      "outputs": [
        {
          "output_type": "execute_result",
          "data": {
            "text/plain": [
              "[('Theft', 1000),\n",
              " ('Theft', 1000),\n",
              " ('Theft', 501),\n",
              " ('Loss', 3800),\n",
              " ('Theft', 5257)]"
            ]
          },
          "metadata": {
            "tags": []
          },
          "execution_count": 34
        }
      ]
    },
    {
      "cell_type": "code",
      "metadata": {
        "id": "dX7mLp1P3e-y",
        "colab_type": "code",
        "colab": {}
      },
      "source": [
        "breach_type_cnt = breach_type.reduceByKey(lambda x,y: x+ y)"
      ],
      "execution_count": 0,
      "outputs": []
    },
    {
      "cell_type": "code",
      "metadata": {
        "id": "7tI6Mm5w3lYr",
        "colab_type": "code",
        "outputId": "e7585b4c-a02f-4ef0-8cfb-ef6d38147426",
        "colab": {
          "base_uri": "https://localhost:8080/",
          "height": 35
        }
      },
      "source": [
        "breach_type_cnt.take(3)"
      ],
      "execution_count": 0,
      "outputs": [
        {
          "output_type": "execute_result",
          "data": {
            "text/plain": [
              "[('Theft', 16515554), ('Loss', 7254286), ('Hacking/IT Incident', 1878870)]"
            ]
          },
          "metadata": {
            "tags": []
          },
          "execution_count": 36
        }
      ]
    },
    {
      "cell_type": "code",
      "metadata": {
        "id": "a7uIOlsH3oBI",
        "colab_type": "code",
        "colab": {}
      },
      "source": [
        "ret = breach_type_cnt.sortBy(lambda a: -a[1])"
      ],
      "execution_count": 0,
      "outputs": []
    },
    {
      "cell_type": "code",
      "metadata": {
        "id": "4jLZcTcq3vcd",
        "colab_type": "code",
        "outputId": "f91e586f-a7b6-4868-a016-32caaea583d9",
        "colab": {
          "base_uri": "https://localhost:8080/",
          "height": 35
        }
      },
      "source": [
        "ret.take(3)"
      ],
      "execution_count": 0,
      "outputs": [
        {
          "output_type": "execute_result",
          "data": {
            "text/plain": [
              "[('Theft', 16515554), ('Loss', 7254286), ('Unknown', 1918312)]"
            ]
          },
          "metadata": {
            "tags": []
          },
          "execution_count": 39
        }
      ]
    },
    {
      "cell_type": "markdown",
      "metadata": {
        "id": "LvycOksa_LAT",
        "colab_type": "text"
      },
      "source": [
        "## 啟用 SparkSQL"
      ]
    },
    {
      "cell_type": "code",
      "metadata": {
        "id": "rUdnV_7b30oS",
        "colab_type": "code",
        "colab": {}
      },
      "source": [
        "from pyspark.sql import SQLContext\n",
        "sqlContext = SQLContext(sc)"
      ],
      "execution_count": 0,
      "outputs": []
    },
    {
      "cell_type": "code",
      "metadata": {
        "id": "FpuJ31N__Qfm",
        "colab_type": "code",
        "outputId": "1ab7eef6-9475-4edd-cdb9-60959a38ec98",
        "colab": {
          "base_uri": "https://localhost:8080/",
          "height": 228
        }
      },
      "source": [
        "! wget \"https://raw.githubusercontent.com/ywchiu/pyspark/master/data/cyber_breaches.csv\"\n"
      ],
      "execution_count": 0,
      "outputs": [
        {
          "output_type": "stream",
          "text": [
            "--2020-05-07 11:55:46--  https://raw.githubusercontent.com/ywchiu/pyspark/master/data/cyber_breaches.csv\n",
            "Resolving raw.githubusercontent.com (raw.githubusercontent.com)... 151.101.0.133, 151.101.64.133, 151.101.128.133, ...\n",
            "Connecting to raw.githubusercontent.com (raw.githubusercontent.com)|151.101.0.133|:443... connected.\n",
            "HTTP request sent, awaiting response... 200 OK\n",
            "Length: 275032 (269K) [text/plain]\n",
            "Saving to: ‘cyber_breaches.csv’\n",
            "\n",
            "\rcyber_breaches.csv    0%[                    ]       0  --.-KB/s               \rcyber_breaches.csv  100%[===================>] 268.59K  --.-KB/s    in 0.05s   \n",
            "\n",
            "2020-05-07 11:55:46 (5.26 MB/s) - ‘cyber_breaches.csv’ saved [275032/275032]\n",
            "\n"
          ],
          "name": "stdout"
        }
      ]
    },
    {
      "cell_type": "code",
      "metadata": {
        "id": "aEqbKJxg_dij",
        "colab_type": "code",
        "colab": {}
      },
      "source": [
        "df = sqlContext.read.csv('cyber_breaches.csv',  header = True)"
      ],
      "execution_count": 0,
      "outputs": []
    },
    {
      "cell_type": "code",
      "metadata": {
        "id": "Wqrr4RhM_ylF",
        "colab_type": "code",
        "outputId": "2a72492b-f107-484e-be05-347334e6d97f",
        "colab": {
          "base_uri": "https://localhost:8080/",
          "height": 228
        }
      },
      "source": [
        "df.show(5)"
      ],
      "execution_count": 0,
      "outputs": [
        {
          "output_type": "stream",
          "text": [
            "+-------------------+------+----------------------+-----+---------------------------+--------------------+--------------+--------------+--------------------------------+----------------------+--------------------+------------+----------+----+\n",
            "|                _c0|Number|Name_of_Covered_Entity|State|Business_Associate_Involved|Individuals_Affected|Date_of_Breach|Type_of_Breach|Location_of_Breached_Information|Date_Posted_or_Updated|             Summary|breach_start|breach_end|year|\n",
            "+-------------------+------+----------------------+-----+---------------------------+--------------------+--------------+--------------+--------------------------------+----------------------+--------------------+------------+----------+----+\n",
            "|                  1|     0|  Brooke Army Medic...|   TX|                       null|                1000|    10/16/2009|         Theft|                           Paper|            2014-06-30|A binder containi...|  2009-10-16|        NA|2009|\n",
            "|                  2|     1|  Mid America Kidne...|   MO|                       null|                1000|     9/22/2009|         Theft|                  Network Server|            2014-05-30|Five desktop comp...|  2009-09-22|        NA|2009|\n",
            "|                  3|     2|  Alaska Department...|   AK|                       null|                 501|    10/12/2009|         Theft|            Other Portable El...|            2014-01-23|                null|  2009-10-12|        NA|2009|\n",
            "|                  4|     3|  Health Services f...|   DC|                       null|                3800|     10/9/2009|          Loss|                          Laptop|            2014-01-23|A laptop was lost...|        null|      null|null|\n",
            "|,2009-10-09,NA,2009|  null|                  null| null|                       null|                null|          null|          null|                            null|                  null|                null|        null|      null|null|\n",
            "+-------------------+------+----------------------+-----+---------------------------+--------------------+--------------+--------------+--------------------------------+----------------------+--------------------+------------+----------+----+\n",
            "only showing top 5 rows\n",
            "\n"
          ],
          "name": "stdout"
        }
      ]
    },
    {
      "cell_type": "code",
      "metadata": {
        "id": "q3LtqzTd_4n4",
        "colab_type": "code",
        "outputId": "775872ed-5285-428c-9e18-e1c6de10bbf6",
        "colab": {
          "base_uri": "https://localhost:8080/",
          "height": 295
        }
      },
      "source": [
        "df.printSchema()"
      ],
      "execution_count": 0,
      "outputs": [
        {
          "output_type": "stream",
          "text": [
            "root\n",
            " |-- _c0: string (nullable = true)\n",
            " |-- Number: string (nullable = true)\n",
            " |-- Name_of_Covered_Entity: string (nullable = true)\n",
            " |-- State: string (nullable = true)\n",
            " |-- Business_Associate_Involved: string (nullable = true)\n",
            " |-- Individuals_Affected: string (nullable = true)\n",
            " |-- Date_of_Breach: string (nullable = true)\n",
            " |-- Type_of_Breach: string (nullable = true)\n",
            " |-- Location_of_Breached_Information: string (nullable = true)\n",
            " |-- Date_Posted_or_Updated: string (nullable = true)\n",
            " |-- Summary: string (nullable = true)\n",
            " |-- breach_start: string (nullable = true)\n",
            " |-- breach_end: string (nullable = true)\n",
            " |-- year: string (nullable = true)\n",
            "\n"
          ],
          "name": "stdout"
        }
      ]
    },
    {
      "cell_type": "code",
      "metadata": {
        "id": "D-v359GCAFKv",
        "colab_type": "code",
        "colab": {}
      },
      "source": [
        "# select * from df where state is not null;\n",
        "from pyspark.sql.functions import col\n",
        "filtered_df = df.filter(col('State').isNotNull())"
      ],
      "execution_count": 0,
      "outputs": []
    },
    {
      "cell_type": "code",
      "metadata": {
        "id": "NlrzBl4cAn9c",
        "colab_type": "code",
        "outputId": "fe2d13ae-e1dd-48d2-ad29-45474402ef60",
        "colab": {
          "base_uri": "https://localhost:8080/",
          "height": 55
        }
      },
      "source": [
        "filtered_df"
      ],
      "execution_count": 0,
      "outputs": [
        {
          "output_type": "execute_result",
          "data": {
            "text/plain": [
              "DataFrame[_c0: string, Number: string, Name_of_Covered_Entity: string, State: string, Business_Associate_Involved: string, Individuals_Affected: string, Date_of_Breach: string, Type_of_Breach: string, Location_of_Breached_Information: string, Date_Posted_or_Updated: string, Summary: string, breach_start: string, breach_end: string, year: string]"
            ]
          },
          "metadata": {
            "tags": []
          },
          "execution_count": 46
        }
      ]
    },
    {
      "cell_type": "code",
      "metadata": {
        "id": "Kk-n9NWVBAq8",
        "colab_type": "code",
        "outputId": "09889618-a3fa-4ae5-bf3f-135d83d39485",
        "colab": {
          "base_uri": "https://localhost:8080/",
          "height": 228
        }
      },
      "source": [
        "filtered_df.show(5)"
      ],
      "execution_count": 0,
      "outputs": [
        {
          "output_type": "stream",
          "text": [
            "+---+------+----------------------+-----+---------------------------+--------------------+--------------+--------------+--------------------------------+----------------------+--------------------+------------+----------+----+\n",
            "|_c0|Number|Name_of_Covered_Entity|State|Business_Associate_Involved|Individuals_Affected|Date_of_Breach|Type_of_Breach|Location_of_Breached_Information|Date_Posted_or_Updated|             Summary|breach_start|breach_end|year|\n",
            "+---+------+----------------------+-----+---------------------------+--------------------+--------------+--------------+--------------------------------+----------------------+--------------------+------------+----------+----+\n",
            "|  1|     0|  Brooke Army Medic...|   TX|                       null|                1000|    10/16/2009|         Theft|                           Paper|            2014-06-30|A binder containi...|  2009-10-16|        NA|2009|\n",
            "|  2|     1|  Mid America Kidne...|   MO|                       null|                1000|     9/22/2009|         Theft|                  Network Server|            2014-05-30|Five desktop comp...|  2009-09-22|        NA|2009|\n",
            "|  3|     2|  Alaska Department...|   AK|                       null|                 501|    10/12/2009|         Theft|            Other Portable El...|            2014-01-23|                null|  2009-10-12|        NA|2009|\n",
            "|  4|     3|  Health Services f...|   DC|                       null|                3800|     10/9/2009|          Loss|                          Laptop|            2014-01-23|A laptop was lost...|        null|      null|null|\n",
            "|  5|     4|  L. Douglas Carlso...|   CA|                       null|                5257|     9/27/2009|         Theft|                Desktop Computer|            2014-01-23|A shared Computer...|        null|      null|null|\n",
            "+---+------+----------------------+-----+---------------------------+--------------------+--------------+--------------+--------------------------------+----------------------+--------------------+------------+----------+----+\n",
            "only showing top 5 rows\n",
            "\n"
          ],
          "name": "stdout"
        }
      ]
    },
    {
      "cell_type": "code",
      "metadata": {
        "id": "dOjTWqkLBF5p",
        "colab_type": "code",
        "outputId": "3ec90a65-d2d0-4479-ebbb-74a4997a1704",
        "colab": {
          "base_uri": "https://localhost:8080/",
          "height": 173
        }
      },
      "source": [
        "filtered_df.select('Type_of_Breach', 'Individuals_Affected').show(3)"
      ],
      "execution_count": 0,
      "outputs": [
        {
          "output_type": "stream",
          "text": [
            "+--------------+--------------------+\n",
            "|Type_of_Breach|Individuals_Affected|\n",
            "+--------------+--------------------+\n",
            "|         Theft|                1000|\n",
            "|         Theft|                1000|\n",
            "|         Theft|                 501|\n",
            "+--------------+--------------------+\n",
            "only showing top 3 rows\n",
            "\n"
          ],
          "name": "stdout"
        }
      ]
    },
    {
      "cell_type": "code",
      "metadata": {
        "id": "Nd10HH7YBeOi",
        "colab_type": "code",
        "outputId": "879df5a1-ed6e-41cf-db3d-a3f734a93b2e",
        "colab": {
          "base_uri": "https://localhost:8080/",
          "height": 173
        }
      },
      "source": [
        "filtered_df.select(col('Type_of_Breach'), col('Individuals_Affected')).show(3)"
      ],
      "execution_count": 0,
      "outputs": [
        {
          "output_type": "stream",
          "text": [
            "+--------------+--------------------+\n",
            "|Type_of_Breach|Individuals_Affected|\n",
            "+--------------+--------------------+\n",
            "|         Theft|                1000|\n",
            "|         Theft|                1000|\n",
            "|         Theft|                 501|\n",
            "+--------------+--------------------+\n",
            "only showing top 3 rows\n",
            "\n"
          ],
          "name": "stdout"
        }
      ]
    },
    {
      "cell_type": "code",
      "metadata": {
        "id": "l6SC13wkBj7H",
        "colab_type": "code",
        "outputId": "925a765c-fd03-4437-ae4c-ae65205217d0",
        "colab": {
          "base_uri": "https://localhost:8080/",
          "height": 173
        }
      },
      "source": [
        "filtered_df.select(col('Type_of_Breach').alias('breach'), col('Individuals_Affected')).show(3)"
      ],
      "execution_count": 0,
      "outputs": [
        {
          "output_type": "stream",
          "text": [
            "+------+--------------------+\n",
            "|breach|Individuals_Affected|\n",
            "+------+--------------------+\n",
            "| Theft|                1000|\n",
            "| Theft|                1000|\n",
            "| Theft|                 501|\n",
            "+------+--------------------+\n",
            "only showing top 3 rows\n",
            "\n"
          ],
          "name": "stdout"
        }
      ]
    },
    {
      "cell_type": "code",
      "metadata": {
        "id": "ztPZILbeBp0Q",
        "colab_type": "code",
        "outputId": "448d9252-fad0-444d-e565-210dc00e2654",
        "colab": {
          "base_uri": "https://localhost:8080/",
          "height": 228
        }
      },
      "source": [
        "filtered_df.filter(col('Type_of_Breach') == 'Theft').show(5)\n"
      ],
      "execution_count": 0,
      "outputs": [
        {
          "output_type": "stream",
          "text": [
            "+---+------+----------------------+-----+---------------------------+--------------------+--------------+--------------+--------------------------------+----------------------+--------------------+------------+----------+----+\n",
            "|_c0|Number|Name_of_Covered_Entity|State|Business_Associate_Involved|Individuals_Affected|Date_of_Breach|Type_of_Breach|Location_of_Breached_Information|Date_Posted_or_Updated|             Summary|breach_start|breach_end|year|\n",
            "+---+------+----------------------+-----+---------------------------+--------------------+--------------+--------------+--------------------------------+----------------------+--------------------+------------+----------+----+\n",
            "|  1|     0|  Brooke Army Medic...|   TX|                       null|                1000|    10/16/2009|         Theft|                           Paper|            2014-06-30|A binder containi...|  2009-10-16|        NA|2009|\n",
            "|  2|     1|  Mid America Kidne...|   MO|                       null|                1000|     9/22/2009|         Theft|                  Network Server|            2014-05-30|Five desktop comp...|  2009-09-22|        NA|2009|\n",
            "|  3|     2|  Alaska Department...|   AK|                       null|                 501|    10/12/2009|         Theft|            Other Portable El...|            2014-01-23|                null|  2009-10-12|        NA|2009|\n",
            "|  5|     4|  L. Douglas Carlso...|   CA|                       null|                5257|     9/27/2009|         Theft|                Desktop Computer|            2014-01-23|A shared Computer...|        null|      null|null|\n",
            "|  6|     5|    David I. Cohen, MD|   CA|                       null|                 857|     9/27/2009|         Theft|                Desktop Computer|            2014-01-23|A shared Computer...|        null|      null|null|\n",
            "+---+------+----------------------+-----+---------------------------+--------------------+--------------+--------------+--------------------------------+----------------------+--------------------+------------+----------+----+\n",
            "only showing top 5 rows\n",
            "\n"
          ],
          "name": "stdout"
        }
      ]
    },
    {
      "cell_type": "code",
      "metadata": {
        "id": "_8aQ6kgMB7Td",
        "colab_type": "code",
        "outputId": "3e341d9f-a46a-45de-9477-5ea4d766873c",
        "colab": {
          "base_uri": "https://localhost:8080/",
          "height": 208
        }
      },
      "source": [
        "filtered_df.filter(col('Type_of_Breach') == 'Theft').select('Type_of_Breach', 'Individuals_Affected').show(5)\n"
      ],
      "execution_count": 0,
      "outputs": [
        {
          "output_type": "stream",
          "text": [
            "+--------------+--------------------+\n",
            "|Type_of_Breach|Individuals_Affected|\n",
            "+--------------+--------------------+\n",
            "|         Theft|                1000|\n",
            "|         Theft|                1000|\n",
            "|         Theft|                 501|\n",
            "|         Theft|                5257|\n",
            "|         Theft|                 857|\n",
            "+--------------+--------------------+\n",
            "only showing top 5 rows\n",
            "\n"
          ],
          "name": "stdout"
        }
      ]
    },
    {
      "cell_type": "code",
      "metadata": {
        "id": "FRMsaoqFCMO1",
        "colab_type": "code",
        "outputId": "3ef19171-0904-4f91-9c13-d716db3b8a9c",
        "colab": {
          "base_uri": "https://localhost:8080/",
          "height": 208
        }
      },
      "source": [
        "filtered_df.filter(col('Type_of_Breach') == 'Theft')\\\n",
        "    .select('Type_of_Breach', 'Individuals_Affected')\\\n",
        "    .show(5)\n"
      ],
      "execution_count": 0,
      "outputs": [
        {
          "output_type": "stream",
          "text": [
            "+--------------+--------------------+\n",
            "|Type_of_Breach|Individuals_Affected|\n",
            "+--------------+--------------------+\n",
            "|         Theft|                1000|\n",
            "|         Theft|                1000|\n",
            "|         Theft|                 501|\n",
            "|         Theft|                5257|\n",
            "|         Theft|                 857|\n",
            "+--------------+--------------------+\n",
            "only showing top 5 rows\n",
            "\n"
          ],
          "name": "stdout"
        }
      ]
    },
    {
      "cell_type": "code",
      "metadata": {
        "id": "Bi1z1S0WCTWU",
        "colab_type": "code",
        "outputId": "4b35d16b-541c-42ac-89ce-53fde941e706",
        "colab": {
          "base_uri": "https://localhost:8080/",
          "height": 208
        }
      },
      "source": [
        "(filtered_df.filter(col('Type_of_Breach') == 'Theft')\n",
        "    .select('Type_of_Breach', 'Individuals_Affected')\n",
        ").show(5)\n"
      ],
      "execution_count": 0,
      "outputs": [
        {
          "output_type": "stream",
          "text": [
            "+--------------+--------------------+\n",
            "|Type_of_Breach|Individuals_Affected|\n",
            "+--------------+--------------------+\n",
            "|         Theft|                1000|\n",
            "|         Theft|                1000|\n",
            "|         Theft|                 501|\n",
            "|         Theft|                5257|\n",
            "|         Theft|                 857|\n",
            "+--------------+--------------------+\n",
            "only showing top 5 rows\n",
            "\n"
          ],
          "name": "stdout"
        }
      ]
    },
    {
      "cell_type": "code",
      "metadata": {
        "id": "W9IsrsGuCdTI",
        "colab_type": "code",
        "colab": {}
      },
      "source": [
        "# select type_of_breach, sum(indivisual_affected) from df group by type_of_breach;\n",
        "from pyspark.sql import functions\n",
        "cnt_df = (filtered_df\n",
        "    .groupby(col('Type_of_Breach'))\n",
        "    .agg(functions.sum(col('Individuals_Affected')))\n",
        ")"
      ],
      "execution_count": 0,
      "outputs": []
    },
    {
      "cell_type": "code",
      "metadata": {
        "id": "KZsOxTYODKKV",
        "colab_type": "code",
        "outputId": "3a65f24e-0db2-4e0e-c21f-096c87557f87",
        "colab": {
          "base_uri": "https://localhost:8080/",
          "height": 208
        }
      },
      "source": [
        "cnt_df.show(5)"
      ],
      "execution_count": 0,
      "outputs": [
        {
          "output_type": "stream",
          "text": [
            "+--------------------+-------------------------+\n",
            "|      Type_of_Breach|sum(Individuals_Affected)|\n",
            "+--------------------+-------------------------+\n",
            "|       Loss, Unknown|                  13035.0|\n",
            "|         Loss, Other|                  34534.0|\n",
            "|  Theft, Loss, Other|                   2600.0|\n",
            "|Unauthorized Acce...|                   4354.0|\n",
            "|Theft, Hacking/IT...|                  27800.0|\n",
            "+--------------------+-------------------------+\n",
            "only showing top 5 rows\n",
            "\n"
          ],
          "name": "stdout"
        }
      ]
    },
    {
      "cell_type": "code",
      "metadata": {
        "id": "qTxYubtqDTeS",
        "colab_type": "code",
        "colab": {}
      },
      "source": [
        "# select type_of_breach, sum(Individuals_Affected) from df group by type_of_breach order by sum(Individuals_Affected) desc;\n",
        "from pyspark.sql import functions\n",
        "cnt_df = (filtered_df\n",
        "    .groupby(col('Type_of_Breach'))\n",
        "    .agg(functions.sum(col('Individuals_Affected')).alias('affected_numbers'))\n",
        "    .sort(functions.desc('affected_numbers'))\n",
        ")"
      ],
      "execution_count": 0,
      "outputs": []
    },
    {
      "cell_type": "code",
      "metadata": {
        "id": "pqRDZkBKDs0I",
        "colab_type": "code",
        "outputId": "46bad4e5-664c-4d7b-a0ab-850803c27162",
        "colab": {
          "base_uri": "https://localhost:8080/",
          "height": 208
        }
      },
      "source": [
        "cnt_df.show(5)"
      ],
      "execution_count": 0,
      "outputs": [
        {
          "output_type": "stream",
          "text": [
            "+--------------------+----------------+\n",
            "|      Type_of_Breach|affected_numbers|\n",
            "+--------------------+----------------+\n",
            "|               Theft|     1.6515554E7|\n",
            "|                Loss|       7254286.0|\n",
            "|             Unknown|       1918312.0|\n",
            "| Hacking/IT Incident|       1878870.0|\n",
            "|Unauthorized Acce...|       1424227.0|\n",
            "+--------------------+----------------+\n",
            "only showing top 5 rows\n",
            "\n"
          ],
          "name": "stdout"
        }
      ]
    },
    {
      "cell_type": "markdown",
      "metadata": {
        "id": "-mZ3kDveD7FK",
        "colab_type": "text"
      },
      "source": [
        "## 小任務\n",
        "- 請幫我找出所有資安影響事件中，哪個州(State)被影響的人數最多"
      ]
    },
    {
      "cell_type": "code",
      "metadata": {
        "id": "xsmC6IbzD0pm",
        "colab_type": "code",
        "outputId": "3011e6d4-e373-4d9b-d2d4-87b0030574dd",
        "colab": {
          "base_uri": "https://localhost:8080/",
          "height": 35
        }
      },
      "source": [
        "# SELECT State, SUM(Individuals_Affected)  AS affected_numbers\n",
        "# FROM filtered_df GROUP BY State\n",
        "# ORDER BY affected_numbers DESC \n",
        "# LIMIT 1\n",
        "\n",
        "cnt_df = (\n",
        "    filtered_df\n",
        "         .groupby(col('State'))\n",
        "         .agg(functions.sum(col('Individuals_Affected')).alias('affected_numbers'))\n",
        "         .sort(functions.desc('affected_numbers'))\n",
        ")\n",
        "         \n",
        "cnt_df.take(1)"
      ],
      "execution_count": 0,
      "outputs": [
        {
          "output_type": "execute_result",
          "data": {
            "text/plain": [
              "[Row(State='VA', affected_numbers=5110781.0)]"
            ]
          },
          "metadata": {
            "tags": []
          },
          "execution_count": 67
        }
      ]
    },
    {
      "cell_type": "code",
      "metadata": {
        "id": "pCPOGEn1G3Fc",
        "colab_type": "code",
        "outputId": "8806b900-fe95-4780-c7cd-c2fc2ce0eb88",
        "colab": {
          "base_uri": "https://localhost:8080/",
          "height": 228
        }
      },
      "source": [
        "! wget https://raw.githubusercontent.com/ywchiu/pyspark/master/data/us_state.csv"
      ],
      "execution_count": 0,
      "outputs": [
        {
          "output_type": "stream",
          "text": [
            "--2020-05-07 12:30:32--  https://raw.githubusercontent.com/ywchiu/pyspark/master/data/us_state.csv\n",
            "Resolving raw.githubusercontent.com (raw.githubusercontent.com)... 151.101.0.133, 151.101.64.133, 151.101.128.133, ...\n",
            "Connecting to raw.githubusercontent.com (raw.githubusercontent.com)|151.101.0.133|:443... connected.\n",
            "HTTP request sent, awaiting response... 200 OK\n",
            "Length: 838 [text/plain]\n",
            "Saving to: ‘us_state.csv’\n",
            "\n",
            "\rus_state.csv          0%[                    ]       0  --.-KB/s               \rus_state.csv        100%[===================>]     838  --.-KB/s    in 0s      \n",
            "\n",
            "2020-05-07 12:30:33 (145 MB/s) - ‘us_state.csv’ saved [838/838]\n",
            "\n"
          ],
          "name": "stdout"
        }
      ]
    },
    {
      "cell_type": "code",
      "metadata": {
        "id": "-xPS2wd7Gx1c",
        "colab_type": "code",
        "colab": {}
      },
      "source": [
        "country = sqlContext.read.csv('us_state.csv',  header = True)"
      ],
      "execution_count": 0,
      "outputs": []
    },
    {
      "cell_type": "code",
      "metadata": {
        "id": "GrgM_4ZqHjQc",
        "colab_type": "code",
        "outputId": "6d7a6697-fd5d-450b-9b54-a5d97f0f2482",
        "colab": {
          "base_uri": "https://localhost:8080/",
          "height": 87
        }
      },
      "source": [
        "country.printSchema()"
      ],
      "execution_count": 0,
      "outputs": [
        {
          "output_type": "stream",
          "text": [
            "root\n",
            " |-- state: string (nullable = true)\n",
            " |-- code: string (nullable = true)\n",
            "\n"
          ],
          "name": "stdout"
        }
      ]
    },
    {
      "cell_type": "code",
      "metadata": {
        "id": "EXuFjLDZHk47",
        "colab_type": "code",
        "outputId": "3bb87d40-7511-4f11-eafe-4fd74427142a",
        "colab": {
          "base_uri": "https://localhost:8080/",
          "height": 208
        }
      },
      "source": [
        "country.show(5)"
      ],
      "execution_count": 0,
      "outputs": [
        {
          "output_type": "stream",
          "text": [
            "+----------+----+\n",
            "|     state|code|\n",
            "+----------+----+\n",
            "|   Alabama|  AL|\n",
            "|    Alaska|  AK|\n",
            "|   Arizona|  AZ|\n",
            "|  Arkansas|  AR|\n",
            "|California|  CA|\n",
            "+----------+----+\n",
            "only showing top 5 rows\n",
            "\n"
          ],
          "name": "stdout"
        }
      ]
    },
    {
      "cell_type": "code",
      "metadata": {
        "id": "eQX73diHHoEp",
        "colab_type": "code",
        "colab": {}
      },
      "source": [
        "# SELECT country.state, country.code, affected_numbers \n",
        "# FROM cnt_df as cnt_df INNER JOIN country as country \n",
        "# ON cnt_df.State = country.code\n",
        "cnt_df = cnt_df.alias('cnt_df')\n",
        "country = country.alias('country')"
      ],
      "execution_count": 0,
      "outputs": []
    },
    {
      "cell_type": "code",
      "metadata": {
        "id": "Aom1KSpWIVet",
        "colab_type": "code",
        "colab": {}
      },
      "source": [
        "ret_df = (\n",
        "    cnt_df.join(country, \n",
        "            col('cnt_df.State') == col('country.code'))\n",
        "      .select(\n",
        "          col('country.state'),\n",
        "          col('country.code'),\n",
        "          col('cnt_df.affected_numbers')\n",
        "      )\n",
        ")"
      ],
      "execution_count": 0,
      "outputs": []
    },
    {
      "cell_type": "code",
      "metadata": {
        "id": "DSAKgyHLIy8S",
        "colab_type": "code",
        "outputId": "ce357ebf-5220-4b61-8edb-72a872fcd565",
        "colab": {
          "base_uri": "https://localhost:8080/",
          "height": 208
        }
      },
      "source": [
        "ret_df.show(5)"
      ],
      "execution_count": 0,
      "outputs": [
        {
          "output_type": "stream",
          "text": [
            "+----------+----+----------------+\n",
            "|     state|code|affected_numbers|\n",
            "+----------+----+----------------+\n",
            "|  Virginia|  VA|       5110781.0|\n",
            "|California|  CA|       4672091.0|\n",
            "|  Illinois|  IL|       4402934.0|\n",
            "|   Florida|  FL|       2840764.0|\n",
            "|  New York|  NY|       2571302.0|\n",
            "+----------+----+----------------+\n",
            "only showing top 5 rows\n",
            "\n"
          ],
          "name": "stdout"
        }
      ]
    },
    {
      "cell_type": "markdown",
      "metadata": {
        "id": "01c6RwaFMllE",
        "colab_type": "text"
      },
      "source": [
        "## User Defined Function"
      ]
    },
    {
      "cell_type": "code",
      "metadata": {
        "id": "4xPl_Gh0I1Jf",
        "colab_type": "code",
        "colab": {}
      },
      "source": [
        "\n",
        "df = sqlContext.read.csv('cyber_breaches.csv',  header = True)"
      ],
      "execution_count": 0,
      "outputs": []
    },
    {
      "cell_type": "code",
      "metadata": {
        "id": "nYJ0A0lyNWPR",
        "colab_type": "code",
        "colab": {
          "base_uri": "https://localhost:8080/",
          "height": 193
        },
        "outputId": "a79ef801-da9d-450b-d349-5ea2b3013a76"
      },
      "source": [
        "df.show(3)"
      ],
      "execution_count": 77,
      "outputs": [
        {
          "output_type": "stream",
          "text": [
            "+---+------+----------------------+-----+---------------------------+--------------------+--------------+--------------+--------------------------------+----------------------+--------------------+------------+----------+----+\n",
            "|_c0|Number|Name_of_Covered_Entity|State|Business_Associate_Involved|Individuals_Affected|Date_of_Breach|Type_of_Breach|Location_of_Breached_Information|Date_Posted_or_Updated|             Summary|breach_start|breach_end|year|\n",
            "+---+------+----------------------+-----+---------------------------+--------------------+--------------+--------------+--------------------------------+----------------------+--------------------+------------+----------+----+\n",
            "|  1|     0|  Brooke Army Medic...|   TX|                       null|                1000|    10/16/2009|         Theft|                           Paper|            2014-06-30|A binder containi...|  2009-10-16|        NA|2009|\n",
            "|  2|     1|  Mid America Kidne...|   MO|                       null|                1000|     9/22/2009|         Theft|                  Network Server|            2014-05-30|Five desktop comp...|  2009-09-22|        NA|2009|\n",
            "|  3|     2|  Alaska Department...|   AK|                       null|                 501|    10/12/2009|         Theft|            Other Portable El...|            2014-01-23|                null|  2009-10-12|        NA|2009|\n",
            "+---+------+----------------------+-----+---------------------------+--------------------+--------------+--------------+--------------------------------+----------------------+--------------------+------------+----------+----+\n",
            "only showing top 3 rows\n",
            "\n"
          ],
          "name": "stdout"
        }
      ]
    },
    {
      "cell_type": "code",
      "metadata": {
        "id": "mVmdTTuaNYRP",
        "colab_type": "code",
        "colab": {}
      },
      "source": [
        "s = '10/16/2009'\n",
        "from datetime import datetime\n",
        "def date_conversion_func(s):\n",
        "  try:\n",
        "    return datetime.strptime(s,'%m/%d/%Y').strftime('%Y-%m-%d')\n",
        "  except:\n",
        "    return None"
      ],
      "execution_count": 0,
      "outputs": []
    },
    {
      "cell_type": "code",
      "metadata": {
        "id": "dmZTGGnwN7Wc",
        "colab_type": "code",
        "colab": {}
      },
      "source": [
        "from pyspark.sql.functions import udf\n",
        "from pyspark.sql.types import StringType, BooleanType\n",
        "Date_Conversion_UDF = udf(lambda s: date_conversion_func(s), StringType())\n"
      ],
      "execution_count": 0,
      "outputs": []
    },
    {
      "cell_type": "code",
      "metadata": {
        "id": "oTbjEl-oObrP",
        "colab_type": "code",
        "colab": {
          "base_uri": "https://localhost:8080/",
          "height": 208
        },
        "outputId": "bbf36096-9d53-4b0f-a4a9-5414298e72ee"
      },
      "source": [
        "df.select(Date_Conversion_UDF('Date_of_Breach').alias('Date_of_Breach')).show(5)"
      ],
      "execution_count": 91,
      "outputs": [
        {
          "output_type": "stream",
          "text": [
            "+--------------+\n",
            "|Date_of_Breach|\n",
            "+--------------+\n",
            "|    2009-10-16|\n",
            "|    2009-09-22|\n",
            "|    2009-10-12|\n",
            "|    2009-10-09|\n",
            "|          null|\n",
            "+--------------+\n",
            "only showing top 5 rows\n",
            "\n"
          ],
          "name": "stdout"
        }
      ]
    },
    {
      "cell_type": "code",
      "metadata": {
        "id": "e0H9tsGtOlOr",
        "colab_type": "code",
        "colab": {}
      },
      "source": [
        "sqlContext.registerDataFrameAsTable(filtered_df, \"breaches\")"
      ],
      "execution_count": 0,
      "outputs": []
    },
    {
      "cell_type": "code",
      "metadata": {
        "id": "lnkPCLR7PZJ9",
        "colab_type": "code",
        "colab": {
          "base_uri": "https://localhost:8080/",
          "height": 468
        },
        "outputId": "9ee80aec-9505-4249-81c6-9d06de2f600d"
      },
      "source": [
        "stat_data = sqlContext.sql(\"\"\"\n",
        "    SELECT Type_of_Breach, SUM(Individuals_Affected) AS affected_numbers\n",
        "    FROM breaches\n",
        "    GROUP BY Type_of_Breach\n",
        "    ORDER BY affected_numbers DESC\n",
        "\"\"\")\n",
        "stat_data.show()"
      ],
      "execution_count": 104,
      "outputs": [
        {
          "output_type": "stream",
          "text": [
            "+--------------------+----------------+\n",
            "|      Type_of_Breach|affected_numbers|\n",
            "+--------------------+----------------+\n",
            "|               Theft|     1.6515554E7|\n",
            "|                Loss|       7254286.0|\n",
            "|             Unknown|       1918312.0|\n",
            "| Hacking/IT Incident|       1878870.0|\n",
            "|Unauthorized Acce...|       1424227.0|\n",
            "|               Other|        772500.0|\n",
            "|   Improper Disposal|        671594.0|\n",
            "|Unauthorized Acce...|        551355.0|\n",
            "|      Unknown, Other|        317082.0|\n",
            "|Unauthorized Acce...|        162781.0|\n",
            "|         Theft, Loss|        159474.0|\n",
            "|Theft, Unauthoriz...|         79780.0|\n",
            "|         Loss, Other|         34534.0|\n",
            "|Loss, Unauthorize...|         33638.0|\n",
            "|Theft, Hacking/IT...|         27800.0|\n",
            "|        Theft, Other|         23759.0|\n",
            "|Theft, Improper D...|         17300.0|\n",
            "|Theft, Unauthoriz...|         14800.0|\n",
            "|Theft, Unauthoriz...|         14519.0|\n",
            "|       Loss, Unknown|         13035.0|\n",
            "+--------------------+----------------+\n",
            "only showing top 20 rows\n",
            "\n"
          ],
          "name": "stdout"
        }
      ]
    },
    {
      "cell_type": "markdown",
      "metadata": {
        "id": "LQUlAfOFRDd2",
        "colab_type": "text"
      },
      "source": [
        "## 小任務\n",
        "請幫我找出所有資安影響事件中，哪個州(State)被影響的人數最多，並join country 表格，列出 州名, 州code 與被影響人數"
      ]
    },
    {
      "cell_type": "code",
      "metadata": {
        "id": "8jqMTA2aPhQq",
        "colab_type": "code",
        "colab": {}
      },
      "source": [
        "sqlContext.registerDataFrameAsTable(filtered_df, \"breaches\")\n",
        "sqlContext.registerDataFrameAsTable(country, \"country\")"
      ],
      "execution_count": 0,
      "outputs": []
    },
    {
      "cell_type": "code",
      "metadata": {
        "id": "AaUCXOXpTvl2",
        "colab_type": "code",
        "colab": {
          "base_uri": "https://localhost:8080/",
          "height": 208
        },
        "outputId": "d41f0a80-b846-45b5-8043-b09ef07d20e5"
      },
      "source": [
        "stat_data = sqlContext.sql(\"\"\"\n",
        "    SELECT country.state, country.code, SUM(Individuals_Affected) AS affected_numbers\n",
        "    FROM breaches \n",
        "    INNER JOIN country\n",
        "    ON country.code = breaches.State\n",
        "    GROUP BY country.state, country.code\n",
        "    ORDER BY affected_numbers DESC\n",
        "\"\"\")\n",
        "stat_data.show(5)"
      ],
      "execution_count": 107,
      "outputs": [
        {
          "output_type": "stream",
          "text": [
            "+----------+----+----------------+\n",
            "|     state|code|affected_numbers|\n",
            "+----------+----+----------------+\n",
            "|  Virginia|  VA|       5110781.0|\n",
            "|California|  CA|       4672091.0|\n",
            "|  Illinois|  IL|       4402934.0|\n",
            "|   Florida|  FL|       2840764.0|\n",
            "|  New York|  NY|       2571302.0|\n",
            "+----------+----+----------------+\n",
            "only showing top 5 rows\n",
            "\n"
          ],
          "name": "stdout"
        }
      ]
    },
    {
      "cell_type": "markdown",
      "metadata": {
        "id": "J-61nzYoUW9H",
        "colab_type": "text"
      },
      "source": [
        "## PySpark ETL 框架\n",
        "- https://github.com/AlexIoannides/pyspark-example-project"
      ]
    },
    {
      "cell_type": "code",
      "metadata": {
        "id": "JUKvj9QlT7-r",
        "colab_type": "code",
        "colab": {}
      },
      "source": [
        ""
      ],
      "execution_count": 0,
      "outputs": []
    }
  ]
}