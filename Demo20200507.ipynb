{
  "nbformat": 4,
  "nbformat_minor": 0,
  "metadata": {
    "colab": {
      "name": "Demo20200507.ipynb",
      "provenance": [],
      "collapsed_sections": []
    },
    "kernelspec": {
      "name": "python3",
      "display_name": "Python 3"
    }
  },
  "cells": [
    {
      "cell_type": "markdown",
      "metadata": {
        "id": "SF5T13xGwoRD",
        "colab_type": "text"
      },
      "source": [
        "## 安裝 Spark"
      ]
    },
    {
      "cell_type": "code",
      "metadata": {
        "id": "xiyxhszPsTk5",
        "colab_type": "code",
        "colab": {}
      },
      "source": [
        "! apt-get install openjdk-8-jdk-headless -qq > /dev/null"
      ],
      "execution_count": 0,
      "outputs": []
    },
    {
      "cell_type": "code",
      "metadata": {
        "id": "CVRDjwH6wsyZ",
        "colab_type": "code",
        "colab": {}
      },
      "source": [
        "! wget -q https://www-us.apache.org/dist/spark/spark-2.4.5/spark-2.4.5-bin-hadoop2.7.tgz"
      ],
      "execution_count": 0,
      "outputs": []
    },
    {
      "cell_type": "code",
      "metadata": {
        "id": "oq1PxUp8w7bk",
        "colab_type": "code",
        "colab": {}
      },
      "source": [
        "! tar xf spark-2.4.5-bin-hadoop2.7.tgz"
      ],
      "execution_count": 0,
      "outputs": []
    },
    {
      "cell_type": "code",
      "metadata": {
        "id": "c2ay0ccpw_rn",
        "colab_type": "code",
        "colab": {}
      },
      "source": [
        "! pip install -q findspark"
      ],
      "execution_count": 0,
      "outputs": []
    },
    {
      "cell_type": "code",
      "metadata": {
        "id": "YYzj0Qx1xbXY",
        "colab_type": "code",
        "colab": {}
      },
      "source": [
        "import os\n",
        "os.environ[\"JAVA_HOME\"] = \"/usr/lib/jvm/java-1.8.0-openjdk-amd64\"\n",
        "os.environ[\"SPARK_HOME\"] = \"/content/spark-2.4.5-bin-hadoop2.7\""
      ],
      "execution_count": 0,
      "outputs": []
    },
    {
      "cell_type": "code",
      "metadata": {
        "id": "ooOAdxHtxgCG",
        "colab_type": "code",
        "colab": {}
      },
      "source": [
        "\n",
        "import findspark\n",
        "findspark.init()\n",
        "from pyspark.sql import SparkSession\n",
        "spark = SparkSession.builder.master(\"local[*]\").getOrCreate()"
      ],
      "execution_count": 0,
      "outputs": []
    },
    {
      "cell_type": "code",
      "metadata": {
        "id": "PUs2rxWoxmNG",
        "colab_type": "code",
        "colab": {}
      },
      "source": [
        "from pyspark import SparkContext\n",
        "sc = SparkContext.getOrCreate()"
      ],
      "execution_count": 0,
      "outputs": []
    },
    {
      "cell_type": "markdown",
      "metadata": {
        "id": "HB3J51BkyHQd",
        "colab_type": "text"
      },
      "source": [
        "## 實例示範"
      ]
    },
    {
      "cell_type": "markdown",
      "metadata": {
        "id": "pZzWcbRb2ztR",
        "colab_type": "text"
      },
      "source": [
        "### 範例一"
      ]
    },
    {
      "cell_type": "code",
      "metadata": {
        "id": "opW5agWox3Y1",
        "colab_type": "code",
        "colab": {
          "base_uri": "https://localhost:8080/",
          "height": 228
        },
        "outputId": "d9e345f6-873f-40e6-ad23-e98936755723"
      },
      "source": [
        "! wget \"https://raw.githubusercontent.com/ywchiu/pyspark/master/data/cyber_breaches.tsv\""
      ],
      "execution_count": 8,
      "outputs": [
        {
          "output_type": "stream",
          "text": [
            "--2020-05-07 10:58:07--  https://raw.githubusercontent.com/ywchiu/pyspark/master/data/cyber_breaches.tsv\n",
            "Resolving raw.githubusercontent.com (raw.githubusercontent.com)... 151.101.0.133, 151.101.64.133, 151.101.128.133, ...\n",
            "Connecting to raw.githubusercontent.com (raw.githubusercontent.com)|151.101.0.133|:443... connected.\n",
            "HTTP request sent, awaiting response... 200 OK\n",
            "Length: 256462 (250K) [text/plain]\n",
            "Saving to: ‘cyber_breaches.tsv’\n",
            "\n",
            "cyber_breaches.tsv  100%[===================>] 250.45K  --.-KB/s    in 0.05s   \n",
            "\n",
            "2020-05-07 10:58:08 (4.56 MB/s) - ‘cyber_breaches.tsv’ saved [256462/256462]\n",
            "\n"
          ],
          "name": "stdout"
        }
      ]
    },
    {
      "cell_type": "code",
      "metadata": {
        "id": "w_U9VyhiyRFE",
        "colab_type": "code",
        "colab": {
          "base_uri": "https://localhost:8080/",
          "height": 211
        },
        "outputId": "20a3c53b-77fd-4986-c1db-d577085eee14"
      },
      "source": [
        "!  head cyber_breaches.tsv"
      ],
      "execution_count": 9,
      "outputs": [
        {
          "output_type": "stream",
          "text": [
            "\tNumber\tName_of_Covered_Entity\tState\tBusiness_Associate_Involved\tIndividuals_Affected\tDate_of_Breach\tType_of_Breach\tLocation_of_Breached_Information\tDate_Posted_or_Updated\tSummary\tbreach_start\tbreach_end\tyear\n",
            "1\t0\tBrooke Army Medical Center\tTX\t\t1000\t10/16/2009\tTheft\tPaper\t2014-06-30\tA binder containing the protected health information (PHI) of up to 1,272 individuals was stolen from a staff member's vehicle.  The PHI included names, telephone numbers, detailed treatment notes, and possibly social security numbers.  In response to the breach, the covered entity (CE) sanctioned the workforce member and developed a new policy requiring on-call staff members to submit any information created during their shifts to the main office instead of adding it to the binder.  Following OCR's investigation, the CE notified the local media about the breach.\t2009-10-16\t\t2009\n",
            "2\t1\tMid America Kidney Stone Association, LLC\tMO\t\t1000\t9/22/2009\tTheft\tNetwork Server\t2014-05-30\tFive desktop computers containing unencrypted electronic protected health information (e-PHI) were stolen from the covered entity (CE).  Originally, the CE reported that over 500 persons were involved, but subsequent investigation showed that about 260 persons were involved.  The ePHI included demographic and financial information. The CE provided breach notification to affected individuals and HHS.  Following the breach, the CE improved physical security by installing motion detectors and alarm systems security monitoring.  It improved technical safeguards by installing enhanced antivirus and encryption software.  As a result of OCR's investigation the CE updated its computer password policy.  \t2009-09-22\t\t2009\n",
            "3\t2\tAlaska Department of Health and Social Services\tAK\t\t501\t10/12/2009\tTheft\tOther Portable Electronic Device, Other\t2014-01-23\t\t2009-10-12\t\t2009\n",
            "4\t3\tHealth Services for Children with Special Needs, Inc.\tDC\t\t3800\t10/9/2009\tLoss\tLaptop\t2014-01-23\t\"A laptop was lost by an employee while in transit on public transportation.  The computer contained the protected health information of 3800 individuals.  The protected health information involved in the breach included names, Medicaid ID numbers, dates of birth, and primary physicians.  In response to this incident, the covered entity took steps to enforce the requirements of the Privacy & Security Rules.  The covered entity has installed encryption software on all employee computers, strengthened access controls including passwords, reviewed and updated security policies and procedures, and updated it risk assessment.  In addition, all employees received additional security training.  \n",
            "\n",
            "\"\t2009-10-09\t\t2009\n",
            "5\t4\tL. Douglas Carlson, M.D.\tCA\t\t5257\t9/27/2009\tTheft\tDesktop Computer\t2014-01-23\t\"A shared Computer that was used for backup was stolen on 9/27/09 from the reception desk area of the covered entity. The Computer contained certain electronic protected health information (ePHI) of 5,257 individuals who were patients of the CE.  The ePHI involved in the breach included names, dates of birth, and clinical information, but there were no social security numbers, financial information, addresses, phone numbers, or other ePHI in any of the reports on the disks or the hard drive on the stolen Computer. Following the breach, the covered entity notified all 5,257 affected individuals and the appropriate media; added technical safeguards of encryption for all ePHI stored on the USB flash drive or the CD used on the replacement computer; added physical safeguards by keeping new portable devices locked when not in use in a secure combination safe in doctor's private office or in a secure filing cabinet; and added administrative safeguards by requiring annual refresher retraining of CE staff for Privacy and Security Rules as well as requiring immediate retraining of cleaning staff in both Rules.\n",
            "\n",
            "\"\t2009-09-27\t\t2009\n"
          ],
          "name": "stdout"
        }
      ]
    },
    {
      "cell_type": "code",
      "metadata": {
        "id": "1-eTt7vnyYa2",
        "colab_type": "code",
        "colab": {}
      },
      "source": [
        "rdd = sc.textFile(\"cyber_breaches.tsv\")\n"
      ],
      "execution_count": 0,
      "outputs": []
    },
    {
      "cell_type": "code",
      "metadata": {
        "id": "9_KFFNwJyxMs",
        "colab_type": "code",
        "colab": {
          "base_uri": "https://localhost:8080/",
          "height": 35
        },
        "outputId": "c3a8982d-2e3f-401a-f39a-33e7b1bfe3b3"
      },
      "source": [
        "rdd"
      ],
      "execution_count": 11,
      "outputs": [
        {
          "output_type": "execute_result",
          "data": {
            "text/plain": [
              "cyber_breaches.tsv MapPartitionsRDD[1] at textFile at NativeMethodAccessorImpl.java:0"
            ]
          },
          "metadata": {
            "tags": []
          },
          "execution_count": 11
        }
      ]
    },
    {
      "cell_type": "code",
      "metadata": {
        "id": "ys6eBN9Qyx-D",
        "colab_type": "code",
        "colab": {
          "base_uri": "https://localhost:8080/",
          "height": 124
        },
        "outputId": "04664932-4e3a-4fb4-a751-2e321af54711"
      },
      "source": [
        "rdd.take(5)"
      ],
      "execution_count": 12,
      "outputs": [
        {
          "output_type": "execute_result",
          "data": {
            "text/plain": [
              "['\\tNumber\\tName_of_Covered_Entity\\tState\\tBusiness_Associate_Involved\\tIndividuals_Affected\\tDate_of_Breach\\tType_of_Breach\\tLocation_of_Breached_Information\\tDate_Posted_or_Updated\\tSummary\\tbreach_start\\tbreach_end\\tyear',\n",
              " \"1\\t0\\tBrooke Army Medical Center\\tTX\\t\\t1000\\t10/16/2009\\tTheft\\tPaper\\t2014-06-30\\tA binder containing the protected health information (PHI) of up to 1,272 individuals was stolen from a staff member's vehicle.  The PHI included names, telephone numbers, detailed treatment notes, and possibly social security numbers.  In response to the breach, the covered entity (CE) sanctioned the workforce member and developed a new policy requiring on-call staff members to submit any information created during their shifts to the main office instead of adding it to the binder.  Following OCR's investigation, the CE notified the local media about the breach.\\t2009-10-16\\t\\t2009\",\n",
              " \"2\\t1\\tMid America Kidney Stone Association, LLC\\tMO\\t\\t1000\\t9/22/2009\\tTheft\\tNetwork Server\\t2014-05-30\\tFive desktop computers containing unencrypted electronic protected health information (e-PHI) were stolen from the covered entity (CE).  Originally, the CE reported that over 500 persons were involved, but subsequent investigation showed that about 260 persons were involved.  The ePHI included demographic and financial information. The CE provided breach notification to affected individuals and HHS.  Following the breach, the CE improved physical security by installing motion detectors and alarm systems security monitoring.  It improved technical safeguards by installing enhanced antivirus and encryption software.  As a result of OCR's investigation the CE updated its computer password policy.  \\t2009-09-22\\t\\t2009\",\n",
              " '3\\t2\\tAlaska Department of Health and Social Services\\tAK\\t\\t501\\t10/12/2009\\tTheft\\tOther Portable Electronic Device, Other\\t2014-01-23\\t\\t2009-10-12\\t\\t2009',\n",
              " '4\\t3\\tHealth Services for Children with Special Needs, Inc.\\tDC\\t\\t3800\\t10/9/2009\\tLoss\\tLaptop\\t2014-01-23\\t\"A laptop was lost by an employee while in transit on public transportation.  The computer contained the protected health information of 3800 individuals.  The protected health information involved in the breach included names, Medicaid ID numbers, dates of birth, and primary physicians.  In response to this incident, the covered entity took steps to enforce the requirements of the Privacy & Security Rules.  The covered entity has installed encryption software on all employee computers, strengthened access controls including passwords, reviewed and updated security policies and procedures, and updated it risk assessment.  In addition, all employees received additional security training.  ']"
            ]
          },
          "metadata": {
            "tags": []
          },
          "execution_count": 12
        }
      ]
    },
    {
      "cell_type": "code",
      "metadata": {
        "id": "Oxgb_szgy50q",
        "colab_type": "code",
        "colab": {}
      },
      "source": [
        "header = rdd.first()"
      ],
      "execution_count": 0,
      "outputs": []
    },
    {
      "cell_type": "code",
      "metadata": {
        "id": "RX9IGRlLz0sa",
        "colab_type": "code",
        "colab": {
          "base_uri": "https://localhost:8080/",
          "height": 55
        },
        "outputId": "ba9b8e83-35d7-4caa-a87e-8873ee8e7c14"
      },
      "source": [
        "header"
      ],
      "execution_count": 14,
      "outputs": [
        {
          "output_type": "execute_result",
          "data": {
            "text/plain": [
              "'\\tNumber\\tName_of_Covered_Entity\\tState\\tBusiness_Associate_Involved\\tIndividuals_Affected\\tDate_of_Breach\\tType_of_Breach\\tLocation_of_Breached_Information\\tDate_Posted_or_Updated\\tSummary\\tbreach_start\\tbreach_end\\tyear'"
            ]
          },
          "metadata": {
            "tags": []
          },
          "execution_count": 14
        }
      ]
    },
    {
      "cell_type": "code",
      "metadata": {
        "id": "FLtEbPRhz1UB",
        "colab_type": "code",
        "colab": {}
      },
      "source": [
        "# select * from rdd where line != header\n",
        "content = rdd.filter(lambda line: line != header)"
      ],
      "execution_count": 0,
      "outputs": []
    },
    {
      "cell_type": "code",
      "metadata": {
        "id": "RbW75pvG0D4A",
        "colab_type": "code",
        "colab": {
          "base_uri": "https://localhost:8080/",
          "height": 89
        },
        "outputId": "89cdc029-ec53-49c7-a744-4877c01d40cc"
      },
      "source": [
        "content.take(3)"
      ],
      "execution_count": 16,
      "outputs": [
        {
          "output_type": "execute_result",
          "data": {
            "text/plain": [
              "[\"1\\t0\\tBrooke Army Medical Center\\tTX\\t\\t1000\\t10/16/2009\\tTheft\\tPaper\\t2014-06-30\\tA binder containing the protected health information (PHI) of up to 1,272 individuals was stolen from a staff member's vehicle.  The PHI included names, telephone numbers, detailed treatment notes, and possibly social security numbers.  In response to the breach, the covered entity (CE) sanctioned the workforce member and developed a new policy requiring on-call staff members to submit any information created during their shifts to the main office instead of adding it to the binder.  Following OCR's investigation, the CE notified the local media about the breach.\\t2009-10-16\\t\\t2009\",\n",
              " \"2\\t1\\tMid America Kidney Stone Association, LLC\\tMO\\t\\t1000\\t9/22/2009\\tTheft\\tNetwork Server\\t2014-05-30\\tFive desktop computers containing unencrypted electronic protected health information (e-PHI) were stolen from the covered entity (CE).  Originally, the CE reported that over 500 persons were involved, but subsequent investigation showed that about 260 persons were involved.  The ePHI included demographic and financial information. The CE provided breach notification to affected individuals and HHS.  Following the breach, the CE improved physical security by installing motion detectors and alarm systems security monitoring.  It improved technical safeguards by installing enhanced antivirus and encryption software.  As a result of OCR's investigation the CE updated its computer password policy.  \\t2009-09-22\\t\\t2009\",\n",
              " '3\\t2\\tAlaska Department of Health and Social Services\\tAK\\t\\t501\\t10/12/2009\\tTheft\\tOther Portable Electronic Device, Other\\t2014-01-23\\t\\t2009-10-12\\t\\t2009']"
            ]
          },
          "metadata": {
            "tags": []
          },
          "execution_count": 16
        }
      ]
    },
    {
      "cell_type": "code",
      "metadata": {
        "id": "1cpyxYyi0IzO",
        "colab_type": "code",
        "colab": {}
      },
      "source": [
        "filtered_content = content.filter(lambda line : len(line.split('\\t')) >=10)"
      ],
      "execution_count": 0,
      "outputs": []
    },
    {
      "cell_type": "code",
      "metadata": {
        "id": "RatjJQZy0aLR",
        "colab_type": "code",
        "colab": {}
      },
      "source": [
        "summary = filtered_content.map(lambda line: line.split('\\t')[10])"
      ],
      "execution_count": 0,
      "outputs": []
    },
    {
      "cell_type": "code",
      "metadata": {
        "id": "xwTC9KJ30kd7",
        "colab_type": "code",
        "colab": {
          "base_uri": "https://localhost:8080/",
          "height": 89
        },
        "outputId": "3d1ddd30-7251-4429-a7f1-4afa13d65508"
      },
      "source": [
        "summary.take(3)"
      ],
      "execution_count": 20,
      "outputs": [
        {
          "output_type": "execute_result",
          "data": {
            "text/plain": [
              "[\"A binder containing the protected health information (PHI) of up to 1,272 individuals was stolen from a staff member's vehicle.  The PHI included names, telephone numbers, detailed treatment notes, and possibly social security numbers.  In response to the breach, the covered entity (CE) sanctioned the workforce member and developed a new policy requiring on-call staff members to submit any information created during their shifts to the main office instead of adding it to the binder.  Following OCR's investigation, the CE notified the local media about the breach.\",\n",
              " \"Five desktop computers containing unencrypted electronic protected health information (e-PHI) were stolen from the covered entity (CE).  Originally, the CE reported that over 500 persons were involved, but subsequent investigation showed that about 260 persons were involved.  The ePHI included demographic and financial information. The CE provided breach notification to affected individuals and HHS.  Following the breach, the CE improved physical security by installing motion detectors and alarm systems security monitoring.  It improved technical safeguards by installing enhanced antivirus and encryption software.  As a result of OCR's investigation the CE updated its computer password policy.  \",\n",
              " '']"
            ]
          },
          "metadata": {
            "tags": []
          },
          "execution_count": 20
        }
      ]
    },
    {
      "cell_type": "code",
      "metadata": {
        "id": "jLEnbhQ10nR8",
        "colab_type": "code",
        "colab": {
          "base_uri": "https://localhost:8080/",
          "height": 35
        },
        "outputId": "b106d539-d880-4da0-d5a7-6cc3f6d9a81a"
      },
      "source": [
        "words = summary.flatMap(lambda line : line.lower().split())\n",
        "words.take(3)"
      ],
      "execution_count": 23,
      "outputs": [
        {
          "output_type": "execute_result",
          "data": {
            "text/plain": [
              "['a', 'binder', 'containing']"
            ]
          },
          "metadata": {
            "tags": []
          },
          "execution_count": 23
        }
      ]
    },
    {
      "cell_type": "code",
      "metadata": {
        "id": "rnHPcfJS095Z",
        "colab_type": "code",
        "colab": {}
      },
      "source": [
        "wordCounts = words.countByValue()"
      ],
      "execution_count": 0,
      "outputs": []
    },
    {
      "cell_type": "code",
      "metadata": {
        "id": "hAJBTduJ1XXU",
        "colab_type": "code",
        "colab": {}
      },
      "source": [
        "#wordCounts"
      ],
      "execution_count": 0,
      "outputs": []
    },
    {
      "cell_type": "markdown",
      "metadata": {
        "id": "ouauBcje23Fg",
        "colab_type": "text"
      },
      "source": [
        "### 範例二"
      ]
    },
    {
      "cell_type": "code",
      "metadata": {
        "id": "zdE8AwBC101p",
        "colab_type": "code",
        "colab": {}
      },
      "source": [
        "splited_data = filtered_content.map(lambda line: line.split('\\t'))"
      ],
      "execution_count": 0,
      "outputs": []
    },
    {
      "cell_type": "code",
      "metadata": {
        "id": "YsCiWKBR26tB",
        "colab_type": "code",
        "colab": {
          "base_uri": "https://localhost:8080/",
          "height": 765
        },
        "outputId": "d56ede05-6666-4dff-d29a-56a85880db6f"
      },
      "source": [
        "splited_data.take(3)"
      ],
      "execution_count": 31,
      "outputs": [
        {
          "output_type": "execute_result",
          "data": {
            "text/plain": [
              "[['1',\n",
              "  '0',\n",
              "  'Brooke Army Medical Center',\n",
              "  'TX',\n",
              "  '',\n",
              "  '1000',\n",
              "  '10/16/2009',\n",
              "  'Theft',\n",
              "  'Paper',\n",
              "  '2014-06-30',\n",
              "  \"A binder containing the protected health information (PHI) of up to 1,272 individuals was stolen from a staff member's vehicle.  The PHI included names, telephone numbers, detailed treatment notes, and possibly social security numbers.  In response to the breach, the covered entity (CE) sanctioned the workforce member and developed a new policy requiring on-call staff members to submit any information created during their shifts to the main office instead of adding it to the binder.  Following OCR's investigation, the CE notified the local media about the breach.\",\n",
              "  '2009-10-16',\n",
              "  '',\n",
              "  '2009'],\n",
              " ['2',\n",
              "  '1',\n",
              "  'Mid America Kidney Stone Association, LLC',\n",
              "  'MO',\n",
              "  '',\n",
              "  '1000',\n",
              "  '9/22/2009',\n",
              "  'Theft',\n",
              "  'Network Server',\n",
              "  '2014-05-30',\n",
              "  \"Five desktop computers containing unencrypted electronic protected health information (e-PHI) were stolen from the covered entity (CE).  Originally, the CE reported that over 500 persons were involved, but subsequent investigation showed that about 260 persons were involved.  The ePHI included demographic and financial information. The CE provided breach notification to affected individuals and HHS.  Following the breach, the CE improved physical security by installing motion detectors and alarm systems security monitoring.  It improved technical safeguards by installing enhanced antivirus and encryption software.  As a result of OCR's investigation the CE updated its computer password policy.  \",\n",
              "  '2009-09-22',\n",
              "  '',\n",
              "  '2009'],\n",
              " ['3',\n",
              "  '2',\n",
              "  'Alaska Department of Health and Social Services',\n",
              "  'AK',\n",
              "  '',\n",
              "  '501',\n",
              "  '10/12/2009',\n",
              "  'Theft',\n",
              "  'Other Portable Electronic Device, Other',\n",
              "  '2014-01-23',\n",
              "  '',\n",
              "  '2009-10-12',\n",
              "  '',\n",
              "  '2009']]"
            ]
          },
          "metadata": {
            "tags": []
          },
          "execution_count": 31
        }
      ]
    },
    {
      "cell_type": "code",
      "metadata": {
        "id": "CVI0mggw29HA",
        "colab_type": "code",
        "colab": {}
      },
      "source": [
        "breach_type = splited_data.map(lambda e: ( e[7],int(e[5]) ) )"
      ],
      "execution_count": 0,
      "outputs": []
    },
    {
      "cell_type": "code",
      "metadata": {
        "id": "_W2ZB4mG3cRh",
        "colab_type": "code",
        "colab": {
          "base_uri": "https://localhost:8080/",
          "height": 104
        },
        "outputId": "5088da84-0187-4c74-f105-da922206fcd9"
      },
      "source": [
        "breach_type.take(5)"
      ],
      "execution_count": 34,
      "outputs": [
        {
          "output_type": "execute_result",
          "data": {
            "text/plain": [
              "[('Theft', 1000),\n",
              " ('Theft', 1000),\n",
              " ('Theft', 501),\n",
              " ('Loss', 3800),\n",
              " ('Theft', 5257)]"
            ]
          },
          "metadata": {
            "tags": []
          },
          "execution_count": 34
        }
      ]
    },
    {
      "cell_type": "code",
      "metadata": {
        "id": "dX7mLp1P3e-y",
        "colab_type": "code",
        "colab": {}
      },
      "source": [
        "breach_type_cnt = breach_type.reduceByKey(lambda x,y: x+ y)"
      ],
      "execution_count": 0,
      "outputs": []
    },
    {
      "cell_type": "code",
      "metadata": {
        "id": "7tI6Mm5w3lYr",
        "colab_type": "code",
        "colab": {
          "base_uri": "https://localhost:8080/",
          "height": 35
        },
        "outputId": "e7585b4c-a02f-4ef0-8cfb-ef6d38147426"
      },
      "source": [
        "breach_type_cnt.take(3)"
      ],
      "execution_count": 36,
      "outputs": [
        {
          "output_type": "execute_result",
          "data": {
            "text/plain": [
              "[('Theft', 16515554), ('Loss', 7254286), ('Hacking/IT Incident', 1878870)]"
            ]
          },
          "metadata": {
            "tags": []
          },
          "execution_count": 36
        }
      ]
    },
    {
      "cell_type": "code",
      "metadata": {
        "id": "a7uIOlsH3oBI",
        "colab_type": "code",
        "colab": {}
      },
      "source": [
        "ret = breach_type_cnt.sortBy(lambda a: -a[1])"
      ],
      "execution_count": 0,
      "outputs": []
    },
    {
      "cell_type": "code",
      "metadata": {
        "id": "4jLZcTcq3vcd",
        "colab_type": "code",
        "colab": {
          "base_uri": "https://localhost:8080/",
          "height": 35
        },
        "outputId": "f91e586f-a7b6-4868-a016-32caaea583d9"
      },
      "source": [
        "ret.take(3)"
      ],
      "execution_count": 39,
      "outputs": [
        {
          "output_type": "execute_result",
          "data": {
            "text/plain": [
              "[('Theft', 16515554), ('Loss', 7254286), ('Unknown', 1918312)]"
            ]
          },
          "metadata": {
            "tags": []
          },
          "execution_count": 39
        }
      ]
    },
    {
      "cell_type": "code",
      "metadata": {
        "id": "rUdnV_7b30oS",
        "colab_type": "code",
        "colab": {}
      },
      "source": [
        ""
      ],
      "execution_count": 0,
      "outputs": []
    }
  ]
}